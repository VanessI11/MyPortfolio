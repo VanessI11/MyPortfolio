{
 "cells": [
  {
   "cell_type": "markdown",
   "id": "6f6a1cbf",
   "metadata": {},
   "source": [
    "#   ПРОЕКТ: Сравнение потребительского поведения пользователей фирмы GoFast c подписке и с бесплатной версией"
   ]
  },
  {
   "cell_type": "markdown",
   "id": "e8b1b851",
   "metadata": {},
   "source": [
    "### Описание проекта: \n",
    "\n",
    "В ходе проекты необходимо:\n",
    "1. Осуществить проверку распределения данных и провести необходимые преобразования с ними для дальнейшего анализа\n",
    "2. Провести исследовательский анализ данных, построить графики по количеству городов, возрастов, длин и продолжительностей поездок и видов подписки в выборке \n",
    "3. Подсчитать среднюю выручку от каждого пользователя по каждому месяцу\n",
    "4. Статистически проверить исследовательские гипотезы:\n",
    "\n",
    "      **1) Среднее время поездок пользователей с подпиской больше времени поездок пользователей без нее**\n",
    "      \n",
    "      **2) Пользователи с подпиской проезжают меньше 3130 м.**\n",
    "      \n",
    "      **3) Пользователи с подпиской в среднем платят больше, чем пользователи без нее**\n",
    "5. С помощью апроксимации распределений найти вероятность того, что уведомление откроют не более 399,5 тыс (при рассылке в 1.1 млн)\n",
    "       \n"
   ]
  },
  {
   "cell_type": "markdown",
   "id": "5ee6bfd7",
   "metadata": {},
   "source": [
    "### Цель проекта: \n",
    "\n",
    "Составить модели пользователького поведения клиентов GoFats и убедиться, что пользователи с подпиской выгоднее для компании в целях увелечения прибыли \n"
   ]
  },
  {
   "cell_type": "markdown",
   "id": "d7687742",
   "metadata": {},
   "source": [
    "### Набор данных\n",
    "\n",
    "**Пользователи — users_go.csv**\n",
    "\n",
    "| Поле | Описание |\n",
    "|------|----------|\n",
    "| *user_id* | Уникальный идентификатор пользователя |\n",
    "| *name* | Имя пользователя |\n",
    "| *age* | Возраст |\n",
    "| *city* | Город |\n",
    "| *subscription_type* | Тип подписки (free, ultra) |\n",
    "\n",
    "**Поездки — rides_go.csv**\n",
    "\n",
    "| Поле | Описание |\n",
    "|------|----------|\n",
    "| user_id | Уникальный идентификатор пользователя |\n",
    "| *distance* | Расстояние, которое пользователь проехал в текущей сессии (в метрах) |\n",
    "| *duration* | Продолжительность сессии (в минутах) — время с того момента, как пользователь нажал кнопку \"Начать поездку\" до момента, как он нажал кнопку \"Завершить поездку\" |\n",
    "| *date* | Дата совершения поездки |\n",
    "\n",
    "**Подписки — subscriptions_go.csv**\n",
    "\n",
    "| Поле | Описание |\n",
    "|------|----------|\n",
    "| *subscription_type* | Тип подписки |\n",
    "| *minute_price* | Стоимость одной минуты поездки по данной подписке |\n",
    "| *start_ride_price* | Стоимость начала поездки |\n",
    "| *subscription_fee* | Стоимость ежемесячного платежа |\n",
    "\n"
   ]
  },
  {
   "cell_type": "markdown",
   "id": "9f8b9f3d",
   "metadata": {},
   "source": [
    "### Импорт библиотек "
   ]
  },
  {
   "cell_type": "code",
   "execution_count": 79,
   "id": "72576667",
   "metadata": {},
   "outputs": [],
   "source": [
    "#Импортируем библиотеки\n",
    "import pandas as pd\n",
    "from matplotlib import pyplot as plt\n",
    "import matplotlib.pyplot as plt \n",
    "import numpy as np\n",
    "from scipy import stats as st\n",
    "from scipy.stats import binom\n",
    "from scipy.stats import norm\n",
    "from math import sqrt"
   ]
  },
  {
   "cell_type": "markdown",
   "id": "c42cbe00",
   "metadata": {},
   "source": [
    "### Загрузка данных"
   ]
  },
  {
   "cell_type": "code",
   "execution_count": 13,
   "id": "eff9f206",
   "metadata": {},
   "outputs": [],
   "source": [
    "#Считываем данные их файлов\n",
    "users = pd.read_csv(\"users_go.csv\")\n",
    "rides = pd.read_csv(\"rides_go.csv\")\n",
    "sub = pd.read_csv(\"subscriptions_go.csv\")"
   ]
  },
  {
   "cell_type": "code",
   "execution_count": 14,
   "id": "ccc23cde",
   "metadata": {
    "scrolled": true
   },
   "outputs": [
    {
     "name": "stdout",
     "output_type": "stream",
     "text": [
      "   user_id        name  age            city subscription_type\n",
      "0        1        Кира   22          Тюмень             ultra\n",
      "1        2   Станислав   31            Омск             ultra\n",
      "2        3     Алексей   20          Москва             ultra\n",
      "3        4  Константин   26  Ростов-на-Дону             ultra\n",
      "4        5       Адель   28            Омск             ultra\n",
      "\n",
      "<class 'pandas.core.frame.DataFrame'>\n",
      "RangeIndex: 1565 entries, 0 to 1564\n",
      "Data columns (total 5 columns):\n",
      " #   Column             Non-Null Count  Dtype \n",
      "---  ------             --------------  ----- \n",
      " 0   user_id            1565 non-null   int64 \n",
      " 1   name               1565 non-null   object\n",
      " 2   age                1565 non-null   int64 \n",
      " 3   city               1565 non-null   object\n",
      " 4   subscription_type  1565 non-null   object\n",
      "dtypes: int64(2), object(3)\n",
      "memory usage: 61.3+ KB\n",
      "None\n",
      "____________________________________________________________________\n",
      "   user_id     distance   duration        date\n",
      "0        1  4409.919140  25.599769  2021-01-01\n",
      "1        1  2617.592153  15.816871  2021-01-18\n",
      "2        1   754.159807   6.232113  2021-04-20\n",
      "3        1  2694.783254  18.511000  2021-08-11\n",
      "4        1  4028.687306  26.265803  2021-08-28\n",
      "\n",
      "<class 'pandas.core.frame.DataFrame'>\n",
      "RangeIndex: 18068 entries, 0 to 18067\n",
      "Data columns (total 4 columns):\n",
      " #   Column    Non-Null Count  Dtype  \n",
      "---  ------    --------------  -----  \n",
      " 0   user_id   18068 non-null  int64  \n",
      " 1   distance  18068 non-null  float64\n",
      " 2   duration  18068 non-null  float64\n",
      " 3   date      18068 non-null  object \n",
      "dtypes: float64(2), int64(1), object(1)\n",
      "memory usage: 564.8+ KB\n",
      "None\n",
      "____________________________________________________________________\n",
      "  subscription_type  minute_price  start_ride_price  subscription_fee\n",
      "0              free             8                50                 0\n",
      "1             ultra             6                 0               199\n",
      "\n",
      "<class 'pandas.core.frame.DataFrame'>\n",
      "RangeIndex: 2 entries, 0 to 1\n",
      "Data columns (total 4 columns):\n",
      " #   Column             Non-Null Count  Dtype \n",
      "---  ------             --------------  ----- \n",
      " 0   subscription_type  2 non-null      object\n",
      " 1   minute_price       2 non-null      int64 \n",
      " 2   start_ride_price   2 non-null      int64 \n",
      " 3   subscription_fee   2 non-null      int64 \n",
      "dtypes: int64(3), object(1)\n",
      "memory usage: 196.0+ bytes\n",
      "None\n",
      "____________________________________________________________________\n"
     ]
    }
   ],
   "source": [
    "#Необходимоя информация по каждому датафрейму\n",
    "for df in [users, rides, sub]:\n",
    "    print(df.head())\n",
    "    print(\"\")\n",
    "    print(df.info())\n",
    "    print(\"____________________________________________________________________\")"
   ]
  },
  {
   "cell_type": "markdown",
   "id": "3a2543c7",
   "metadata": {},
   "source": [
    "##### Проверка распределения имеющихся значений "
   ]
  },
  {
   "cell_type": "code",
   "execution_count": 15,
   "id": "00757862",
   "metadata": {},
   "outputs": [
    {
     "data": {
      "image/png": "[encoded data removed]",
      "text/plain": [
       "<Figure size 1200x500 with 2 Axes>"
      ]
     },
     "metadata": {},
     "output_type": "display_data"
    }
   ],
   "source": [
    "#Выведем диаграммы, чтобы посмотреть, как ведут себя превоначальные данные\n",
    "users.hist(figsize = (12, 5))\n",
    "plt.show()"
   ]
  },
  {
   "cell_type": "markdown",
   "id": "3356f22e",
   "metadata": {},
   "source": [
    "В целом все логично: id распределены равномерно, возрасты нормально, как и должно быть"
   ]
  },
  {
   "cell_type": "code",
   "execution_count": 16,
   "id": "1888854e",
   "metadata": {},
   "outputs": [
    {
     "data": {
      "image/png": "[encoded data removed]",
      "text/plain": [
       "<Figure size 1000x1000 with 4 Axes>"
      ]
     },
     "metadata": {},
     "output_type": "display_data"
    }
   ],
   "source": [
    "#Выведем диаграммы, чтобы посмотреть, как ведут себя превоначальные данные\n",
    "rides.hist(figsize = (10, 10))\n",
    "plt.show()"
   ]
  },
  {
   "cell_type": "markdown",
   "id": "426eca12",
   "metadata": {},
   "source": [
    "Аналогично как и в прошлом наборе данных: id распределены почи равномерно (понятно, что какие-то пользователи катались больше, какие-то меньше), дистанция и продолжительность - нормально. "
   ]
  },
  {
   "cell_type": "markdown",
   "id": "e4ad5a25",
   "metadata": {},
   "source": [
    "Итак, по графикам мы видим, что там, где данные являются количественным, распределение в целом соответствует ожиданию. Данные пригодны для дальнейшей аналитической работы"
   ]
  },
  {
   "cell_type": "markdown",
   "id": "e95ebca7",
   "metadata": {},
   "source": [
    "### Предобработка данных"
   ]
  },
  {
   "cell_type": "markdown",
   "id": "42b8867b",
   "metadata": {},
   "source": [
    "#### 1. Для данных с пользователями"
   ]
  },
  {
   "cell_type": "markdown",
   "id": "6dd7ce74",
   "metadata": {},
   "source": [
    "Проверка на пропуски"
   ]
  },
  {
   "cell_type": "code",
   "execution_count": 52,
   "id": "e3f678c9",
   "metadata": {},
   "outputs": [
    {
     "data": {
      "text/plain": [
       "user_id              0\n",
       "name                 0\n",
       "age                  0\n",
       "city                 0\n",
       "subscription_type    0\n",
       "dtype: int64"
      ]
     },
     "execution_count": 52,
     "metadata": {},
     "output_type": "execute_result"
    }
   ],
   "source": [
    "users.isna().sum()"
   ]
  },
  {
   "cell_type": "markdown",
   "id": "c84229d9",
   "metadata": {},
   "source": [
    "Проверка на дубликаты"
   ]
  },
  {
   "cell_type": "code",
   "execution_count": 54,
   "id": "87ef6fe6",
   "metadata": {},
   "outputs": [
    {
     "data": {
      "text/plain": [
       "1534"
      ]
     },
     "execution_count": 54,
     "metadata": {},
     "output_type": "execute_result"
    }
   ],
   "source": [
    "\n",
    "users.duplicated().sum()\n",
    "\n",
    "#уберем дубликаты\n",
    "users = users.drop_duplicates()\n",
    "\n",
    "#Подсчитаем количество\n",
    "users[\"user_id\"].count()"
   ]
  },
  {
   "cell_type": "markdown",
   "id": "3255d82e",
   "metadata": {},
   "source": [
    "Проверим, что дроп дуубликатов  сработал"
   ]
  },
  {
   "cell_type": "code",
   "execution_count": 56,
   "id": "b9a11009",
   "metadata": {},
   "outputs": [
    {
     "data": {
      "text/plain": [
       "0"
      ]
     },
     "execution_count": 56,
     "metadata": {},
     "output_type": "execute_result"
    }
   ],
   "source": [
    "\n",
    "users.duplicated().sum()"
   ]
  },
  {
   "cell_type": "markdown",
   "id": "c957be98",
   "metadata": {},
   "source": [
    "#### Для данных с поездками"
   ]
  },
  {
   "cell_type": "markdown",
   "id": "5820581c",
   "metadata": {},
   "source": [
    "Проверим таблицу с поездками на пропуски"
   ]
  },
  {
   "cell_type": "code",
   "execution_count": 20,
   "id": "8b099788",
   "metadata": {},
   "outputs": [
    {
     "data": {
      "text/plain": [
       "user_id     0\n",
       "distance    0\n",
       "duration    0\n",
       "date        0\n",
       "dtype: int64"
      ]
     },
     "execution_count": 20,
     "metadata": {},
     "output_type": "execute_result"
    }
   ],
   "source": [
    "rides.isna().sum()"
   ]
  },
  {
   "cell_type": "markdown",
   "id": "3718c641",
   "metadata": {},
   "source": [
    "Проверим таблицу с поездками на дубликаты"
   ]
  },
  {
   "cell_type": "code",
   "execution_count": 57,
   "id": "f66b2865",
   "metadata": {},
   "outputs": [
    {
     "data": {
      "text/plain": [
       "0"
      ]
     },
     "execution_count": 57,
     "metadata": {},
     "output_type": "execute_result"
    }
   ],
   "source": [
    "rides.duplicated().sum()"
   ]
  },
  {
   "cell_type": "markdown",
   "id": "737b6263",
   "metadata": {},
   "source": [
    "Заменим данные с дантой на специальный формат"
   ]
  },
  {
   "cell_type": "code",
   "execution_count": 58,
   "id": "5c098dae",
   "metadata": {},
   "outputs": [
    {
     "name": "stdout",
     "output_type": "stream",
     "text": [
      "<class 'pandas.core.frame.DataFrame'>\n",
      "RangeIndex: 18068 entries, 0 to 18067\n",
      "Data columns (total 5 columns):\n",
      " #   Column    Non-Null Count  Dtype         \n",
      "---  ------    --------------  -----         \n",
      " 0   user_id   18068 non-null  int64         \n",
      " 1   distance  18068 non-null  float64       \n",
      " 2   duration  18068 non-null  float64       \n",
      " 3   date      18068 non-null  datetime64[ns]\n",
      " 4   month     18068 non-null  int32         \n",
      "dtypes: datetime64[ns](1), float64(2), int32(1), int64(1)\n",
      "memory usage: 635.3 KB\n"
     ]
    }
   ],
   "source": [
    "#меняем тип данных\n",
    "rides[\"date\"] = pd.to_datetime(rides[\"date\"])\n",
    "rides.info()"
   ]
  },
  {
   "cell_type": "code",
   "execution_count": 59,
   "id": "128913fa",
   "metadata": {},
   "outputs": [
    {
     "data": {
      "text/html": [
       "<div>\n",
       "<style scoped>\n",
       "    .dataframe tbody tr th:only-of-type {\n",
       "        vertical-align: middle;\n",
       "    }\n",
       "\n",
       "    .dataframe tbody tr th {\n",
       "        vertical-align: top;\n",
       "    }\n",
       "\n",
       "    .dataframe thead th {\n",
       "        text-align: right;\n",
       "    }\n",
       "</style>\n",
       "<table border=\"1\" class=\"dataframe\">\n",
       "  <thead>\n",
       "    <tr style=\"text-align: right;\">\n",
       "      <th></th>\n",
       "      <th>user_id</th>\n",
       "      <th>distance</th>\n",
       "      <th>duration</th>\n",
       "      <th>date</th>\n",
       "      <th>month</th>\n",
       "    </tr>\n",
       "  </thead>\n",
       "  <tbody>\n",
       "    <tr>\n",
       "      <th>0</th>\n",
       "      <td>1</td>\n",
       "      <td>4409.919140</td>\n",
       "      <td>25.599769</td>\n",
       "      <td>2021-01-01</td>\n",
       "      <td>1</td>\n",
       "    </tr>\n",
       "    <tr>\n",
       "      <th>1</th>\n",
       "      <td>1</td>\n",
       "      <td>2617.592153</td>\n",
       "      <td>15.816871</td>\n",
       "      <td>2021-01-18</td>\n",
       "      <td>1</td>\n",
       "    </tr>\n",
       "    <tr>\n",
       "      <th>2</th>\n",
       "      <td>1</td>\n",
       "      <td>754.159807</td>\n",
       "      <td>6.232113</td>\n",
       "      <td>2021-04-20</td>\n",
       "      <td>4</td>\n",
       "    </tr>\n",
       "    <tr>\n",
       "      <th>3</th>\n",
       "      <td>1</td>\n",
       "      <td>2694.783254</td>\n",
       "      <td>18.511000</td>\n",
       "      <td>2021-08-11</td>\n",
       "      <td>8</td>\n",
       "    </tr>\n",
       "    <tr>\n",
       "      <th>4</th>\n",
       "      <td>1</td>\n",
       "      <td>4028.687306</td>\n",
       "      <td>26.265803</td>\n",
       "      <td>2021-08-28</td>\n",
       "      <td>8</td>\n",
       "    </tr>\n",
       "  </tbody>\n",
       "</table>\n",
       "</div>"
      ],
      "text/plain": [
       "   user_id     distance   duration       date  month\n",
       "0        1  4409.919140  25.599769 2021-01-01      1\n",
       "1        1  2617.592153  15.816871 2021-01-18      1\n",
       "2        1   754.159807   6.232113 2021-04-20      4\n",
       "3        1  2694.783254  18.511000 2021-08-11      8\n",
       "4        1  4028.687306  26.265803 2021-08-28      8"
      ]
     },
     "execution_count": 59,
     "metadata": {},
     "output_type": "execute_result"
    }
   ],
   "source": [
    "#добавим к таблице столбец с номером месяца, в котором совершена поездка\n",
    "rides[\"month\"] = rides[\"date\"]. dt.month\n",
    "rides.head()"
   ]
  },
  {
   "cell_type": "markdown",
   "id": "212593c7",
   "metadata": {},
   "source": [
    "### Исследовательский анализ данных"
   ]
  },
  {
   "cell_type": "markdown",
   "id": "2279786b",
   "metadata": {},
   "source": [
    "##### Часстота встречаемости городов"
   ]
  },
  {
   "cell_type": "code",
   "execution_count": 24,
   "id": "9d3b0b47",
   "metadata": {},
   "outputs": [
    {
     "name": "stdout",
     "output_type": "stream",
     "text": [
      "            count     ratio\n",
      "count    8.000000  8.000000\n",
      "mean   191.750000  0.125000\n",
      "std     15.672998  0.010217\n",
      "min    168.000000  0.109518\n",
      "25%    182.250000  0.118807\n",
      "50%    191.000000  0.124511\n",
      "75%    199.500000  0.130052\n",
      "max    219.000000  0.142764\n"
     ]
    },
    {
     "data": {
      "text/html": [
       "<div>\n",
       "<style scoped>\n",
       "    .dataframe tbody tr th:only-of-type {\n",
       "        vertical-align: middle;\n",
       "    }\n",
       "\n",
       "    .dataframe tbody tr th {\n",
       "        vertical-align: top;\n",
       "    }\n",
       "\n",
       "    .dataframe thead th {\n",
       "        text-align: right;\n",
       "    }\n",
       "</style>\n",
       "<table border=\"1\" class=\"dataframe\">\n",
       "  <thead>\n",
       "    <tr style=\"text-align: right;\">\n",
       "      <th></th>\n",
       "      <th>city</th>\n",
       "      <th>count</th>\n",
       "      <th>ratio</th>\n",
       "    </tr>\n",
       "  </thead>\n",
       "  <tbody>\n",
       "    <tr>\n",
       "      <th>0</th>\n",
       "      <td>Екатеринбург</td>\n",
       "      <td>204</td>\n",
       "      <td>0.132986</td>\n",
       "    </tr>\n",
       "    <tr>\n",
       "      <th>1</th>\n",
       "      <td>Краснодар</td>\n",
       "      <td>193</td>\n",
       "      <td>0.125815</td>\n",
       "    </tr>\n",
       "    <tr>\n",
       "      <th>2</th>\n",
       "      <td>Москва</td>\n",
       "      <td>168</td>\n",
       "      <td>0.109518</td>\n",
       "    </tr>\n",
       "    <tr>\n",
       "      <th>3</th>\n",
       "      <td>Омск</td>\n",
       "      <td>183</td>\n",
       "      <td>0.119296</td>\n",
       "    </tr>\n",
       "    <tr>\n",
       "      <th>4</th>\n",
       "      <td>Пятигорск</td>\n",
       "      <td>219</td>\n",
       "      <td>0.142764</td>\n",
       "    </tr>\n",
       "    <tr>\n",
       "      <th>5</th>\n",
       "      <td>Ростов-на-Дону</td>\n",
       "      <td>198</td>\n",
       "      <td>0.129074</td>\n",
       "    </tr>\n",
       "    <tr>\n",
       "      <th>6</th>\n",
       "      <td>Сочи</td>\n",
       "      <td>189</td>\n",
       "      <td>0.123207</td>\n",
       "    </tr>\n",
       "    <tr>\n",
       "      <th>7</th>\n",
       "      <td>Тюмень</td>\n",
       "      <td>180</td>\n",
       "      <td>0.117340</td>\n",
       "    </tr>\n",
       "  </tbody>\n",
       "</table>\n",
       "</div>"
      ],
      "text/plain": [
       "             city  count     ratio\n",
       "0    Екатеринбург    204  0.132986\n",
       "1       Краснодар    193  0.125815\n",
       "2          Москва    168  0.109518\n",
       "3            Омск    183  0.119296\n",
       "4       Пятигорск    219  0.142764\n",
       "5  Ростов-на-Дону    198  0.129074\n",
       "6            Сочи    189  0.123207\n",
       "7          Тюмень    180  0.117340"
      ]
     },
     "execution_count": 24,
     "metadata": {},
     "output_type": "execute_result"
    }
   ],
   "source": [
    "#создаем сгруппированную таблицу по пользователям и считаем частоту встречаемости городом\n",
    "cities_rate = users.groupby(\"city\").agg({\"user_id\":\"count\"})\n",
    "#обнуляем индексы в столбцах\n",
    "cities_rate = cities_rate.reset_index()\n",
    "#меняем название столбцов\n",
    "cities_rate.columns = [\"city\", \"count\"]\n",
    "\n",
    "#добовляем столбец с долями\n",
    "cities_rate[\"ratio\"] = cities_rate[\"count\"] / cities_rate[\"count\"].sum()\n",
    "#выведем описательную статистику\n",
    "print(cities_rate.describe())\n",
    "cities_rate"
   ]
  },
  {
   "cell_type": "code",
   "execution_count": 25,
   "id": "ecb6a080",
   "metadata": {},
   "outputs": [
    {
     "data": {
      "image/png": "[encoded data removed]",
      "text/plain": [
       "<Figure size 640x480 with 1 Axes>"
      ]
     },
     "metadata": {},
     "output_type": "display_data"
    }
   ],
   "source": [
    "#Строим график по полученной таблице\n",
    "ax = (\n",
    "    cities_rate\n",
    "    .sort_values(by = \"count\")\n",
    "    .plot(\"city\", kind=\"bar\", y = \"count\", title = \"Рейтинг выбранных пользователей по городам\", color = \"purple\", ylabel=\"частота\", xlabel=\"город\")\n",
    ")\n",
    "\n",
    "ax.title.set_size(15)"
   ]
  },
  {
   "cell_type": "markdown",
   "id": "bf33017b",
   "metadata": {},
   "source": [
    "##### Рейтинг пользователей с подпиской и без"
   ]
  },
  {
   "cell_type": "code",
   "execution_count": 60,
   "id": "7e3bfadc",
   "metadata": {},
   "outputs": [
    {
     "data": {
      "text/html": [
       "<div>\n",
       "<style scoped>\n",
       "    .dataframe tbody tr th:only-of-type {\n",
       "        vertical-align: middle;\n",
       "    }\n",
       "\n",
       "    .dataframe tbody tr th {\n",
       "        vertical-align: top;\n",
       "    }\n",
       "\n",
       "    .dataframe thead th {\n",
       "        text-align: right;\n",
       "    }\n",
       "</style>\n",
       "<table border=\"1\" class=\"dataframe\">\n",
       "  <thead>\n",
       "    <tr style=\"text-align: right;\">\n",
       "      <th></th>\n",
       "      <th>subscription</th>\n",
       "      <th>count</th>\n",
       "      <th>ratio</th>\n",
       "    </tr>\n",
       "  </thead>\n",
       "  <tbody>\n",
       "    <tr>\n",
       "      <th>0</th>\n",
       "      <td>free</td>\n",
       "      <td>835</td>\n",
       "      <td>0.544329</td>\n",
       "    </tr>\n",
       "    <tr>\n",
       "      <th>1</th>\n",
       "      <td>ultra</td>\n",
       "      <td>699</td>\n",
       "      <td>0.455671</td>\n",
       "    </tr>\n",
       "  </tbody>\n",
       "</table>\n",
       "</div>"
      ],
      "text/plain": [
       "  subscription  count     ratio\n",
       "0         free    835  0.544329\n",
       "1        ultra    699  0.455671"
      ]
     },
     "execution_count": 60,
     "metadata": {},
     "output_type": "execute_result"
    }
   ],
   "source": [
    "#создаем сгруппированную таблицу по пользователям и считаем частоту (количество) пользователей с подпиской и без\n",
    "subscribe_rate = users.groupby(\"subscription_type\").agg({\"user_id\":\"count\"})\n",
    "#обнуляем индексы в столбцах\n",
    "subscribe_rate = subscribe_rate.reset_index()\n",
    "#меняем название столбцов\n",
    "subscribe_rate.columns = [\"subscription\", \"count\"]\n",
    "\n",
    "#добовляем столбец с долями\n",
    "subscribe_rate[\"ratio\"] = subscribe_rate[\"count\"] / subscribe_rate[\"count\"].sum()\n",
    "\n",
    "subscribe_rate"
   ]
  },
  {
   "cell_type": "code",
   "execution_count": 69,
   "id": "ccde81f3",
   "metadata": {},
   "outputs": [
    {
     "data": {
      "image/png": "[encoded data removed]",
      "text/plain": [
       "<Figure size 640x480 with 1 Axes>"
      ]
     },
     "metadata": {},
     "output_type": "display_data"
    }
   ],
   "source": [
    "ax = (\n",
    "    subscribe_rate\n",
    "    .sort_values(by=\"count\")\n",
    "    .plot(\"subscription\", kind=\"pie\", y=\"count\", title=\"Рейтинг пользователей с подпиской и без\",\n",
    "          xlabel=\"тип подписки\", ylabel=\"частота\",\\\n",
    "          autopct=lambda p : '{:.2f}%\\n{}'.format(p, 'с подпиской' if int(p*10) % 2 == 0 else 'без подписки'))\n",
    ")\n",
    "\n",
    "ax.title.set_size(15)\n"
   ]
  },
  {
   "cell_type": "markdown",
   "id": "d7037b2e",
   "metadata": {},
   "source": [
    "##### Рейтинг пользователей по возрасту"
   ]
  },
  {
   "cell_type": "code",
   "execution_count": 28,
   "id": "acdb284e",
   "metadata": {},
   "outputs": [
    {
     "name": "stdout",
     "output_type": "stream",
     "text": [
      "             age       count      ratio\n",
      "count  29.000000   29.000000  29.000000\n",
      "mean   26.103448   52.896552   0.034483\n",
      "std     8.706914   48.824280   0.031828\n",
      "min    12.000000    1.000000   0.000652\n",
      "25%    19.000000    9.000000   0.005867\n",
      "50%    26.000000   41.000000   0.026728\n",
      "75%    33.000000   93.000000   0.060626\n",
      "max    43.000000  145.000000   0.094524\n"
     ]
    },
    {
     "data": {
      "text/html": [
       "<div>\n",
       "<style scoped>\n",
       "    .dataframe tbody tr th:only-of-type {\n",
       "        vertical-align: middle;\n",
       "    }\n",
       "\n",
       "    .dataframe tbody tr th {\n",
       "        vertical-align: top;\n",
       "    }\n",
       "\n",
       "    .dataframe thead th {\n",
       "        text-align: right;\n",
       "    }\n",
       "</style>\n",
       "<table border=\"1\" class=\"dataframe\">\n",
       "  <thead>\n",
       "    <tr style=\"text-align: right;\">\n",
       "      <th></th>\n",
       "      <th>age</th>\n",
       "      <th>count</th>\n",
       "      <th>ratio</th>\n",
       "    </tr>\n",
       "  </thead>\n",
       "  <tbody>\n",
       "    <tr>\n",
       "      <th>0</th>\n",
       "      <td>12</td>\n",
       "      <td>4</td>\n",
       "      <td>0.002608</td>\n",
       "    </tr>\n",
       "    <tr>\n",
       "      <th>1</th>\n",
       "      <td>13</td>\n",
       "      <td>8</td>\n",
       "      <td>0.005215</td>\n",
       "    </tr>\n",
       "    <tr>\n",
       "      <th>2</th>\n",
       "      <td>14</td>\n",
       "      <td>9</td>\n",
       "      <td>0.005867</td>\n",
       "    </tr>\n",
       "    <tr>\n",
       "      <th>3</th>\n",
       "      <td>15</td>\n",
       "      <td>13</td>\n",
       "      <td>0.008475</td>\n",
       "    </tr>\n",
       "    <tr>\n",
       "      <th>4</th>\n",
       "      <td>16</td>\n",
       "      <td>19</td>\n",
       "      <td>0.012386</td>\n",
       "    </tr>\n",
       "    <tr>\n",
       "      <th>5</th>\n",
       "      <td>17</td>\n",
       "      <td>26</td>\n",
       "      <td>0.016949</td>\n",
       "    </tr>\n",
       "    <tr>\n",
       "      <th>6</th>\n",
       "      <td>18</td>\n",
       "      <td>46</td>\n",
       "      <td>0.029987</td>\n",
       "    </tr>\n",
       "    <tr>\n",
       "      <th>7</th>\n",
       "      <td>19</td>\n",
       "      <td>47</td>\n",
       "      <td>0.030639</td>\n",
       "    </tr>\n",
       "    <tr>\n",
       "      <th>8</th>\n",
       "      <td>20</td>\n",
       "      <td>71</td>\n",
       "      <td>0.046284</td>\n",
       "    </tr>\n",
       "    <tr>\n",
       "      <th>9</th>\n",
       "      <td>21</td>\n",
       "      <td>93</td>\n",
       "      <td>0.060626</td>\n",
       "    </tr>\n",
       "  </tbody>\n",
       "</table>\n",
       "</div>"
      ],
      "text/plain": [
       "   age  count     ratio\n",
       "0   12      4  0.002608\n",
       "1   13      8  0.005215\n",
       "2   14      9  0.005867\n",
       "3   15     13  0.008475\n",
       "4   16     19  0.012386\n",
       "5   17     26  0.016949\n",
       "6   18     46  0.029987\n",
       "7   19     47  0.030639\n",
       "8   20     71  0.046284\n",
       "9   21     93  0.060626"
      ]
     },
     "execution_count": 28,
     "metadata": {},
     "output_type": "execute_result"
    }
   ],
   "source": [
    "#создаем сгруппированную таблицу по пользователям и считаем частоту пользователей всех встретившихся возростов\n",
    "age_rate = users.groupby(\"age\").agg({\"user_id\":\"count\"})\n",
    "#обнуляем индексы в столбцах\n",
    "age_rate = age_rate.reset_index()\n",
    "#меняем название столбцов\n",
    "age_rate.columns = [\"age\", \"count\"]\n",
    "\n",
    "\n",
    "#добовляем столбец с долями\n",
    "age_rate[\"ratio\"] = age_rate[\"count\"] / age_rate[\"count\"].sum()\n",
    "#выведем описательную статистику\n",
    "print(age_rate.describe())\n",
    "age_rate.head(10)"
   ]
  },
  {
   "cell_type": "code",
   "execution_count": 29,
   "id": "d81ce62f",
   "metadata": {},
   "outputs": [
    {
     "data": {
      "image/png": "[encoded data removed]",
      "text/plain": [
       "<Figure size 640x480 with 1 Axes>"
      ]
     },
     "metadata": {},
     "output_type": "display_data"
    },
    {
     "data": {
      "image/png": "[encoded data removed]",
      "text/plain": [
       "<Figure size 640x480 with 1 Axes>"
      ]
     },
     "metadata": {},
     "output_type": "display_data"
    }
   ],
   "source": [
    "#По полученным данным строим график по рейтингу (возроста отсартированы по количеству)\n",
    "ax = (\n",
    "    age_rate\n",
    "    .sort_values(by = \"count\")\n",
    "    .plot(\"age\", kind=\"bar\", y = \"count\", title = \"Рейтинг пользователей по возрасту\", color = \"purple\", ylabel=\"частота\", xlabel=\"возраст\")\n",
    ")\n",
    "\n",
    "ax.title.set_size(15)\n",
    "\n",
    "#А также график  с распределением (отображающий распределение данных без сортировки)\n",
    "ax = (\n",
    "    age_rate\n",
    "    .plot(\"age\", kind=\"bar\", y = \"count\", title = \"Распределение пользователей по возрасту\", color = \"turquoise\", ylabel=\"частота\", xlabel=\"возраст\")\n",
    ")\n",
    "\n",
    "ax.title.set_size(15)"
   ]
  },
  {
   "cell_type": "markdown",
   "id": "621ed9a7",
   "metadata": {},
   "source": [
    "По возрасту пользователи распределены нормально"
   ]
  },
  {
   "cell_type": "markdown",
   "id": "b79d1a2e",
   "metadata": {},
   "source": [
    "##### Распределение поездок по дистанции"
   ]
  },
  {
   "cell_type": "code",
   "execution_count": 30,
   "id": "c1327d60",
   "metadata": {},
   "outputs": [
    {
     "name": "stdout",
     "output_type": "stream",
     "text": [
      "           distance    count         ratio\n",
      "count  18068.000000  18068.0  1.806800e+04\n",
      "mean    3070.659976      1.0  5.534647e-05\n",
      "std     1116.831209      0.0  1.155385e-17\n",
      "min        0.855683      1.0  5.534647e-05\n",
      "25%     2543.226360      1.0  5.534647e-05\n",
      "50%     3133.609994      1.0  5.534647e-05\n",
      "75%     3776.222735      1.0  5.534647e-05\n",
      "max     7211.007745      1.0  5.534647e-05\n"
     ]
    },
    {
     "data": {
      "text/html": [
       "<div>\n",
       "<style scoped>\n",
       "    .dataframe tbody tr th:only-of-type {\n",
       "        vertical-align: middle;\n",
       "    }\n",
       "\n",
       "    .dataframe tbody tr th {\n",
       "        vertical-align: top;\n",
       "    }\n",
       "\n",
       "    .dataframe thead th {\n",
       "        text-align: right;\n",
       "    }\n",
       "</style>\n",
       "<table border=\"1\" class=\"dataframe\">\n",
       "  <thead>\n",
       "    <tr style=\"text-align: right;\">\n",
       "      <th></th>\n",
       "      <th>distance</th>\n",
       "      <th>count</th>\n",
       "      <th>ratio</th>\n",
       "    </tr>\n",
       "  </thead>\n",
       "  <tbody>\n",
       "    <tr>\n",
       "      <th>0</th>\n",
       "      <td>0.855683</td>\n",
       "      <td>1</td>\n",
       "      <td>0.000055</td>\n",
       "    </tr>\n",
       "    <tr>\n",
       "      <th>1</th>\n",
       "      <td>2.570787</td>\n",
       "      <td>1</td>\n",
       "      <td>0.000055</td>\n",
       "    </tr>\n",
       "    <tr>\n",
       "      <th>2</th>\n",
       "      <td>4.329506</td>\n",
       "      <td>1</td>\n",
       "      <td>0.000055</td>\n",
       "    </tr>\n",
       "    <tr>\n",
       "      <th>3</th>\n",
       "      <td>6.784447</td>\n",
       "      <td>1</td>\n",
       "      <td>0.000055</td>\n",
       "    </tr>\n",
       "    <tr>\n",
       "      <th>4</th>\n",
       "      <td>7.097072</td>\n",
       "      <td>1</td>\n",
       "      <td>0.000055</td>\n",
       "    </tr>\n",
       "    <tr>\n",
       "      <th>5</th>\n",
       "      <td>11.283615</td>\n",
       "      <td>1</td>\n",
       "      <td>0.000055</td>\n",
       "    </tr>\n",
       "    <tr>\n",
       "      <th>6</th>\n",
       "      <td>12.233115</td>\n",
       "      <td>1</td>\n",
       "      <td>0.000055</td>\n",
       "    </tr>\n",
       "    <tr>\n",
       "      <th>7</th>\n",
       "      <td>15.000606</td>\n",
       "      <td>1</td>\n",
       "      <td>0.000055</td>\n",
       "    </tr>\n",
       "    <tr>\n",
       "      <th>8</th>\n",
       "      <td>15.366168</td>\n",
       "      <td>1</td>\n",
       "      <td>0.000055</td>\n",
       "    </tr>\n",
       "    <tr>\n",
       "      <th>9</th>\n",
       "      <td>15.630873</td>\n",
       "      <td>1</td>\n",
       "      <td>0.000055</td>\n",
       "    </tr>\n",
       "  </tbody>\n",
       "</table>\n",
       "</div>"
      ],
      "text/plain": [
       "    distance  count     ratio\n",
       "0   0.855683      1  0.000055\n",
       "1   2.570787      1  0.000055\n",
       "2   4.329506      1  0.000055\n",
       "3   6.784447      1  0.000055\n",
       "4   7.097072      1  0.000055\n",
       "5  11.283615      1  0.000055\n",
       "6  12.233115      1  0.000055\n",
       "7  15.000606      1  0.000055\n",
       "8  15.366168      1  0.000055\n",
       "9  15.630873      1  0.000055"
      ]
     },
     "execution_count": 30,
     "metadata": {},
     "output_type": "execute_result"
    }
   ],
   "source": [
    "#создаем сгруппированную таблицу по поездкам и считаем частоту всех дистанцийв\n",
    "distance_rate = rides.groupby(\"distance\").agg({\"user_id\":\"count\"})\n",
    "\n",
    "#убираем индексы в столбцах\n",
    "distance_rate = distance_rate.reset_index()\n",
    "#меняем названия столбцов\n",
    "distance_rate.columns = [\"distance\", \"count\"]\n",
    "\n",
    "#добовляем доли\n",
    "distance_rate[\"ratio\"] = distance_rate[\"count\"] / distance_rate[\"count\"].sum()\n",
    "#выведем описательную статистику\n",
    "print(distance_rate.describe())\n",
    "\n",
    "distance_rate.head(10)"
   ]
  },
  {
   "cell_type": "markdown",
   "id": "2aa5e1fe",
   "metadata": {},
   "source": [
    "Все наблюдаемые данные уникальны и представлены в большом количестве по отдельности, поэтому вместо стольчатой диаграммы, которая не способна отобразить данное распределение, построим гистограмму."
   ]
  },
  {
   "cell_type": "code",
   "execution_count": 31,
   "id": "5db9eb10",
   "metadata": {},
   "outputs": [
    {
     "data": {
      "image/png": "[encoded data removed]",
      "text/plain": [
       "<Figure size 800x600 with 1 Axes>"
      ]
     },
     "metadata": {},
     "output_type": "display_data"
    }
   ],
   "source": [
    "#сторим гистограмму по полученным данным\n",
    "ax1 = (\n",
    "    distance_rate[\"distance\"]\n",
    "    .plot(kind=\"hist\", title = \"Длинна поездок\", color = \"turquoise\", bins=25, figsize=(8,6))\n",
    ")\n",
    "\n",
    "ax1.title.set_size(15)"
   ]
  },
  {
   "cell_type": "markdown",
   "id": "324a5939",
   "metadata": {},
   "source": [
    "##### Распределение поездок по длительности"
   ]
  },
  {
   "cell_type": "code",
   "execution_count": 32,
   "id": "43074c3e",
   "metadata": {
    "scrolled": false
   },
   "outputs": [
    {
     "name": "stdout",
     "output_type": "stream",
     "text": [
      "           duration         count         ratio\n",
      "count  17974.000000  17974.000000  17974.000000\n",
      "mean      17.895513      1.005230      0.000056\n",
      "std        5.976666      0.701141      0.000039\n",
      "min        0.500000      1.000000      0.000055\n",
      "25%       13.669653      1.000000      0.000055\n",
      "50%       17.713710      1.000000      0.000055\n",
      "75%       21.746921      1.000000      0.000055\n",
      "max       40.823963     95.000000      0.005258\n"
     ]
    },
    {
     "data": {
      "text/html": [
       "<div>\n",
       "<style scoped>\n",
       "    .dataframe tbody tr th:only-of-type {\n",
       "        vertical-align: middle;\n",
       "    }\n",
       "\n",
       "    .dataframe tbody tr th {\n",
       "        vertical-align: top;\n",
       "    }\n",
       "\n",
       "    .dataframe thead th {\n",
       "        text-align: right;\n",
       "    }\n",
       "</style>\n",
       "<table border=\"1\" class=\"dataframe\">\n",
       "  <thead>\n",
       "    <tr style=\"text-align: right;\">\n",
       "      <th></th>\n",
       "      <th>duration</th>\n",
       "      <th>count</th>\n",
       "      <th>ratio</th>\n",
       "    </tr>\n",
       "  </thead>\n",
       "  <tbody>\n",
       "    <tr>\n",
       "      <th>0</th>\n",
       "      <td>0.500000</td>\n",
       "      <td>95</td>\n",
       "      <td>0.005258</td>\n",
       "    </tr>\n",
       "    <tr>\n",
       "      <th>11980</th>\n",
       "      <td>20.293612</td>\n",
       "      <td>1</td>\n",
       "      <td>0.000055</td>\n",
       "    </tr>\n",
       "    <tr>\n",
       "      <th>11986</th>\n",
       "      <td>20.300855</td>\n",
       "      <td>1</td>\n",
       "      <td>0.000055</td>\n",
       "    </tr>\n",
       "    <tr>\n",
       "      <th>11985</th>\n",
       "      <td>20.300191</td>\n",
       "      <td>1</td>\n",
       "      <td>0.000055</td>\n",
       "    </tr>\n",
       "    <tr>\n",
       "      <th>11984</th>\n",
       "      <td>20.299309</td>\n",
       "      <td>1</td>\n",
       "      <td>0.000055</td>\n",
       "    </tr>\n",
       "    <tr>\n",
       "      <th>11983</th>\n",
       "      <td>20.295583</td>\n",
       "      <td>1</td>\n",
       "      <td>0.000055</td>\n",
       "    </tr>\n",
       "    <tr>\n",
       "      <th>11982</th>\n",
       "      <td>20.294795</td>\n",
       "      <td>1</td>\n",
       "      <td>0.000055</td>\n",
       "    </tr>\n",
       "    <tr>\n",
       "      <th>11981</th>\n",
       "      <td>20.294337</td>\n",
       "      <td>1</td>\n",
       "      <td>0.000055</td>\n",
       "    </tr>\n",
       "    <tr>\n",
       "      <th>11979</th>\n",
       "      <td>20.293365</td>\n",
       "      <td>1</td>\n",
       "      <td>0.000055</td>\n",
       "    </tr>\n",
       "    <tr>\n",
       "      <th>11988</th>\n",
       "      <td>20.301611</td>\n",
       "      <td>1</td>\n",
       "      <td>0.000055</td>\n",
       "    </tr>\n",
       "  </tbody>\n",
       "</table>\n",
       "</div>"
      ],
      "text/plain": [
       "        duration  count     ratio\n",
       "0       0.500000     95  0.005258\n",
       "11980  20.293612      1  0.000055\n",
       "11986  20.300855      1  0.000055\n",
       "11985  20.300191      1  0.000055\n",
       "11984  20.299309      1  0.000055\n",
       "11983  20.295583      1  0.000055\n",
       "11982  20.294795      1  0.000055\n",
       "11981  20.294337      1  0.000055\n",
       "11979  20.293365      1  0.000055\n",
       "11988  20.301611      1  0.000055"
      ]
     },
     "execution_count": 32,
     "metadata": {},
     "output_type": "execute_result"
    }
   ],
   "source": [
    "#создаем сгруппированную таблицу по поездкам и считаем частоту всех длительностей поездок\n",
    "duration_rate = rides.groupby(\"duration\").agg({\"user_id\":\"count\"})\n",
    "\n",
    "#убираем индексы в столбцах\n",
    "duration_rate = duration_rate.reset_index()\n",
    "#меняем названия столбцов\n",
    "duration_rate.columns = [\"duration\", \"count\"]\n",
    "\n",
    "#добавляем доли\n",
    "duration_rate[\"ratio\"] = duration_rate[\"count\"] / duration_rate[\"count\"].sum()\n",
    "\n",
    "#выведем описательную статистику\n",
    "print(duration_rate.describe())\n",
    "duration_rate.sort_values(by=\"count\", ascending=False).head(10)"
   ]
  },
  {
   "cell_type": "code",
   "execution_count": 33,
   "id": "515075a0",
   "metadata": {},
   "outputs": [
    {
     "data": {
      "text/html": [
       "<div>\n",
       "<style scoped>\n",
       "    .dataframe tbody tr th:only-of-type {\n",
       "        vertical-align: middle;\n",
       "    }\n",
       "\n",
       "    .dataframe tbody tr th {\n",
       "        vertical-align: top;\n",
       "    }\n",
       "\n",
       "    .dataframe thead th {\n",
       "        text-align: right;\n",
       "    }\n",
       "</style>\n",
       "<table border=\"1\" class=\"dataframe\">\n",
       "  <thead>\n",
       "    <tr style=\"text-align: right;\">\n",
       "      <th></th>\n",
       "      <th>user_id</th>\n",
       "      <th>distance</th>\n",
       "      <th>duration</th>\n",
       "      <th>date</th>\n",
       "      <th>month</th>\n",
       "    </tr>\n",
       "  </thead>\n",
       "  <tbody>\n",
       "    <tr>\n",
       "      <th>6531</th>\n",
       "      <td>701</td>\n",
       "      <td>4196.445201</td>\n",
       "      <td>0.5</td>\n",
       "      <td>2021-08-31</td>\n",
       "      <td>8</td>\n",
       "    </tr>\n",
       "    <tr>\n",
       "      <th>6570</th>\n",
       "      <td>704</td>\n",
       "      <td>4830.824371</td>\n",
       "      <td>0.5</td>\n",
       "      <td>2021-10-14</td>\n",
       "      <td>10</td>\n",
       "    </tr>\n",
       "    <tr>\n",
       "      <th>6680</th>\n",
       "      <td>712</td>\n",
       "      <td>4684.004397</td>\n",
       "      <td>0.5</td>\n",
       "      <td>2021-03-04</td>\n",
       "      <td>3</td>\n",
       "    </tr>\n",
       "    <tr>\n",
       "      <th>6695</th>\n",
       "      <td>713</td>\n",
       "      <td>5215.642710</td>\n",
       "      <td>0.5</td>\n",
       "      <td>2021-02-25</td>\n",
       "      <td>2</td>\n",
       "    </tr>\n",
       "    <tr>\n",
       "      <th>6768</th>\n",
       "      <td>718</td>\n",
       "      <td>5197.436649</td>\n",
       "      <td>0.5</td>\n",
       "      <td>2021-02-11</td>\n",
       "      <td>2</td>\n",
       "    </tr>\n",
       "    <tr>\n",
       "      <th>...</th>\n",
       "      <td>...</td>\n",
       "      <td>...</td>\n",
       "      <td>...</td>\n",
       "      <td>...</td>\n",
       "      <td>...</td>\n",
       "    </tr>\n",
       "    <tr>\n",
       "      <th>17004</th>\n",
       "      <td>1460</td>\n",
       "      <td>5531.335845</td>\n",
       "      <td>0.5</td>\n",
       "      <td>2021-01-19</td>\n",
       "      <td>1</td>\n",
       "    </tr>\n",
       "    <tr>\n",
       "      <th>17242</th>\n",
       "      <td>1477</td>\n",
       "      <td>6724.932981</td>\n",
       "      <td>0.5</td>\n",
       "      <td>2021-01-12</td>\n",
       "      <td>1</td>\n",
       "    </tr>\n",
       "    <tr>\n",
       "      <th>17314</th>\n",
       "      <td>1483</td>\n",
       "      <td>4445.481070</td>\n",
       "      <td>0.5</td>\n",
       "      <td>2021-03-06</td>\n",
       "      <td>3</td>\n",
       "    </tr>\n",
       "    <tr>\n",
       "      <th>17505</th>\n",
       "      <td>1496</td>\n",
       "      <td>5722.551787</td>\n",
       "      <td>0.5</td>\n",
       "      <td>2021-02-14</td>\n",
       "      <td>2</td>\n",
       "    </tr>\n",
       "    <tr>\n",
       "      <th>17909</th>\n",
       "      <td>1524</td>\n",
       "      <td>4103.998874</td>\n",
       "      <td>0.5</td>\n",
       "      <td>2021-06-18</td>\n",
       "      <td>6</td>\n",
       "    </tr>\n",
       "  </tbody>\n",
       "</table>\n",
       "<p>95 rows × 5 columns</p>\n",
       "</div>"
      ],
      "text/plain": [
       "       user_id     distance  duration       date  month\n",
       "6531       701  4196.445201       0.5 2021-08-31      8\n",
       "6570       704  4830.824371       0.5 2021-10-14     10\n",
       "6680       712  4684.004397       0.5 2021-03-04      3\n",
       "6695       713  5215.642710       0.5 2021-02-25      2\n",
       "6768       718  5197.436649       0.5 2021-02-11      2\n",
       "...        ...          ...       ...        ...    ...\n",
       "17004     1460  5531.335845       0.5 2021-01-19      1\n",
       "17242     1477  6724.932981       0.5 2021-01-12      1\n",
       "17314     1483  4445.481070       0.5 2021-03-06      3\n",
       "17505     1496  5722.551787       0.5 2021-02-14      2\n",
       "17909     1524  4103.998874       0.5 2021-06-18      6\n",
       "\n",
       "[95 rows x 5 columns]"
      ]
     },
     "execution_count": 33,
     "metadata": {},
     "output_type": "execute_result"
    }
   ],
   "source": [
    "#Наблюдатся выброс в количестве 95 знаений с продолжительностью поездки пол минуты. Посмотрим какая у них длительность\n",
    "rides.loc[rides[\"duration\"] == 0.500000]"
   ]
  },
  {
   "cell_type": "markdown",
   "id": "5393c9f0",
   "metadata": {},
   "source": [
    "В данном распределении наблюдается выброс по количесвту продолжительностей поездок, равных 0.5 минуты. По таблице выше  можно заметить, что за это время в среднем проезжают около 5км, что невозможНО фищически. Возможно ошибка в данных - количество незначительно, так что просто удалим их."
   ]
  },
  {
   "cell_type": "code",
   "execution_count": 34,
   "id": "e90aecef",
   "metadata": {},
   "outputs": [
    {
     "data": {
      "text/html": [
       "<div>\n",
       "<style scoped>\n",
       "    .dataframe tbody tr th:only-of-type {\n",
       "        vertical-align: middle;\n",
       "    }\n",
       "\n",
       "    .dataframe tbody tr th {\n",
       "        vertical-align: top;\n",
       "    }\n",
       "\n",
       "    .dataframe thead th {\n",
       "        text-align: right;\n",
       "    }\n",
       "</style>\n",
       "<table border=\"1\" class=\"dataframe\">\n",
       "  <thead>\n",
       "    <tr style=\"text-align: right;\">\n",
       "      <th></th>\n",
       "      <th>duration</th>\n",
       "      <th>count</th>\n",
       "      <th>ratio</th>\n",
       "    </tr>\n",
       "  </thead>\n",
       "  <tbody>\n",
       "    <tr>\n",
       "      <th>1</th>\n",
       "      <td>2.035632</td>\n",
       "      <td>1</td>\n",
       "      <td>0.000055</td>\n",
       "    </tr>\n",
       "    <tr>\n",
       "      <th>2</th>\n",
       "      <td>2.053251</td>\n",
       "      <td>1</td>\n",
       "      <td>0.000055</td>\n",
       "    </tr>\n",
       "    <tr>\n",
       "      <th>3</th>\n",
       "      <td>2.180879</td>\n",
       "      <td>1</td>\n",
       "      <td>0.000055</td>\n",
       "    </tr>\n",
       "    <tr>\n",
       "      <th>4</th>\n",
       "      <td>2.222598</td>\n",
       "      <td>1</td>\n",
       "      <td>0.000055</td>\n",
       "    </tr>\n",
       "    <tr>\n",
       "      <th>5</th>\n",
       "      <td>2.224797</td>\n",
       "      <td>1</td>\n",
       "      <td>0.000055</td>\n",
       "    </tr>\n",
       "  </tbody>\n",
       "</table>\n",
       "</div>"
      ],
      "text/plain": [
       "   duration  count     ratio\n",
       "1  2.035632      1  0.000055\n",
       "2  2.053251      1  0.000055\n",
       "3  2.180879      1  0.000055\n",
       "4  2.222598      1  0.000055\n",
       "5  2.224797      1  0.000055"
      ]
     },
     "execution_count": 34,
     "metadata": {},
     "output_type": "execute_result"
    }
   ],
   "source": [
    "duration_rate = duration_rate.drop(duration_rate.loc[duration_rate[\"duration\"] == 0.500000].index)\n",
    "duration_rate.head()"
   ]
  },
  {
   "cell_type": "code",
   "execution_count": 70,
   "id": "74cb71a0",
   "metadata": {
    "scrolled": true
   },
   "outputs": [
    {
     "data": {
      "image/png": "[encoded data removed]",
      "text/plain": [
       "<Figure size 700x500 with 1 Axes>"
      ]
     },
     "metadata": {},
     "output_type": "display_data"
    }
   ],
   "source": [
    "#строим второй график, исключая выброс в начале\n",
    "ax = (\n",
    "    duration_rate\n",
    "    .query(\"count != 95\")\n",
    "    .plot(kind=\"hist\", y=\"duration\", title = \"Распределение по времени полных поездок\", color = \"purple\", figsize=(7,5), xlim=(0,40), bins=50)\n",
    ")\n",
    "ax.title.set_size(15)"
   ]
  },
  {
   "cell_type": "markdown",
   "id": "97f5db4c",
   "metadata": {},
   "source": [
    "- В целом, 95 оборванных поездок практически не заметны на фоне общего числа\n",
    "- Распределения длин поездок нормальны"
   ]
  },
  {
   "cell_type": "markdown",
   "id": "435ba8a6",
   "metadata": {},
   "source": [
    "Итак, на данном этапе проектной работы удалось провести исследовательский анализ, который позвовил получить  следующие результаты, и представить их на графиках\n",
    "      \n",
    "      Состать рейтинг по полулярности городов в выборке пользователей: самый менее популярный - Москва, наиболее популярный - Пятигорск\n",
    "      \n",
    "      Сравнить рейтинг количества пользователей с подпиской и без: пользователей с подпиской меньше примерно на 150 человек\n",
    "      \n",
    "      Состать рейтинг по возростам: возроста пользователей в выборке распределены нормально со средним в 25 лет.\n",
    "      \n",
    "      Представить распределение по длинее поездок: все длины уникальны и распределены нормально со средним в 3070 м.\n",
    "      \n",
    "      Представить распределение по длительности поездок: все длины уникальны (кроме выброса с 95ю оборвавшимися поездками) и распределены нормально со средним в 18 минут"
   ]
  },
  {
   "cell_type": "markdown",
   "id": "4ef51331",
   "metadata": {},
   "source": [
    "#### Шаг 4. Объединение данных"
   ]
  },
  {
   "cell_type": "code",
   "execution_count": 36,
   "id": "3bcda078",
   "metadata": {},
   "outputs": [
    {
     "data": {
      "text/html": [
       "<div>\n",
       "<style scoped>\n",
       "    .dataframe tbody tr th:only-of-type {\n",
       "        vertical-align: middle;\n",
       "    }\n",
       "\n",
       "    .dataframe tbody tr th {\n",
       "        vertical-align: top;\n",
       "    }\n",
       "\n",
       "    .dataframe thead th {\n",
       "        text-align: right;\n",
       "    }\n",
       "</style>\n",
       "<table border=\"1\" class=\"dataframe\">\n",
       "  <thead>\n",
       "    <tr style=\"text-align: right;\">\n",
       "      <th></th>\n",
       "      <th>user_id</th>\n",
       "      <th>distance</th>\n",
       "      <th>duration</th>\n",
       "      <th>date</th>\n",
       "      <th>month</th>\n",
       "      <th>name</th>\n",
       "      <th>age</th>\n",
       "      <th>city</th>\n",
       "      <th>subscription_type</th>\n",
       "      <th>minute_price</th>\n",
       "      <th>start_ride_price</th>\n",
       "      <th>subscription_fee</th>\n",
       "    </tr>\n",
       "  </thead>\n",
       "  <tbody>\n",
       "    <tr>\n",
       "      <th>0</th>\n",
       "      <td>1</td>\n",
       "      <td>4409.919140</td>\n",
       "      <td>25.599769</td>\n",
       "      <td>2021-01-01</td>\n",
       "      <td>1</td>\n",
       "      <td>Кира</td>\n",
       "      <td>22</td>\n",
       "      <td>Тюмень</td>\n",
       "      <td>ultra</td>\n",
       "      <td>6</td>\n",
       "      <td>0</td>\n",
       "      <td>199</td>\n",
       "    </tr>\n",
       "    <tr>\n",
       "      <th>1</th>\n",
       "      <td>1</td>\n",
       "      <td>2617.592153</td>\n",
       "      <td>15.816871</td>\n",
       "      <td>2021-01-18</td>\n",
       "      <td>1</td>\n",
       "      <td>Кира</td>\n",
       "      <td>22</td>\n",
       "      <td>Тюмень</td>\n",
       "      <td>ultra</td>\n",
       "      <td>6</td>\n",
       "      <td>0</td>\n",
       "      <td>199</td>\n",
       "    </tr>\n",
       "    <tr>\n",
       "      <th>2</th>\n",
       "      <td>1</td>\n",
       "      <td>754.159807</td>\n",
       "      <td>6.232113</td>\n",
       "      <td>2021-04-20</td>\n",
       "      <td>4</td>\n",
       "      <td>Кира</td>\n",
       "      <td>22</td>\n",
       "      <td>Тюмень</td>\n",
       "      <td>ultra</td>\n",
       "      <td>6</td>\n",
       "      <td>0</td>\n",
       "      <td>199</td>\n",
       "    </tr>\n",
       "    <tr>\n",
       "      <th>3</th>\n",
       "      <td>1</td>\n",
       "      <td>2694.783254</td>\n",
       "      <td>18.511000</td>\n",
       "      <td>2021-08-11</td>\n",
       "      <td>8</td>\n",
       "      <td>Кира</td>\n",
       "      <td>22</td>\n",
       "      <td>Тюмень</td>\n",
       "      <td>ultra</td>\n",
       "      <td>6</td>\n",
       "      <td>0</td>\n",
       "      <td>199</td>\n",
       "    </tr>\n",
       "    <tr>\n",
       "      <th>4</th>\n",
       "      <td>1</td>\n",
       "      <td>4028.687306</td>\n",
       "      <td>26.265803</td>\n",
       "      <td>2021-08-28</td>\n",
       "      <td>8</td>\n",
       "      <td>Кира</td>\n",
       "      <td>22</td>\n",
       "      <td>Тюмень</td>\n",
       "      <td>ultra</td>\n",
       "      <td>6</td>\n",
       "      <td>0</td>\n",
       "      <td>199</td>\n",
       "    </tr>\n",
       "  </tbody>\n",
       "</table>\n",
       "</div>"
      ],
      "text/plain": [
       "   user_id     distance   duration       date  month  name  age    city  \\\n",
       "0        1  4409.919140  25.599769 2021-01-01      1  Кира   22  Тюмень   \n",
       "1        1  2617.592153  15.816871 2021-01-18      1  Кира   22  Тюмень   \n",
       "2        1   754.159807   6.232113 2021-04-20      4  Кира   22  Тюмень   \n",
       "3        1  2694.783254  18.511000 2021-08-11      8  Кира   22  Тюмень   \n",
       "4        1  4028.687306  26.265803 2021-08-28      8  Кира   22  Тюмень   \n",
       "\n",
       "  subscription_type  minute_price  start_ride_price  subscription_fee  \n",
       "0             ultra             6                 0               199  \n",
       "1             ultra             6                 0               199  \n",
       "2             ultra             6                 0               199  \n",
       "3             ultra             6                 0               199  \n",
       "4             ultra             6                 0               199  "
      ]
     },
     "execution_count": 36,
     "metadata": {},
     "output_type": "execute_result"
    }
   ],
   "source": [
    "#объединяем 1 и 2 датафрейм\n",
    "rides_users = rides.merge(users)\n",
    "#2  и 3й\n",
    "full_data = rides_users.merge(sub)\n",
    "\n",
    "#получаем общую таблицу со всеми данными\n",
    "full_data.head()\n",
    "\n",
    "#print(full_data.info())"
   ]
  },
  {
   "cell_type": "markdown",
   "id": "a67c49c9",
   "metadata": {},
   "source": [
    "Видим по информации, что в таблице после объединения не появилось пропусков и количество данных соответствкет ожидаемому"
   ]
  },
  {
   "cell_type": "code",
   "execution_count": 37,
   "id": "0be917d7",
   "metadata": {},
   "outputs": [],
   "source": [
    "#сохраним также отдельно таблицы со всеми пользователями с подпиской и без\n",
    "frees = full_data.query(\"subscription_type == 'free'\")\n",
    "discribes = full_data.query(\"subscription_type != 'free'\")"
   ]
  },
  {
   "cell_type": "markdown",
   "id": "130d0829",
   "metadata": {},
   "source": [
    "Итак, удалось необходимым образом совместить таблицы между собой, для получения новых данных в ходе дальнейших действий"
   ]
  },
  {
   "cell_type": "markdown",
   "id": "402d620f",
   "metadata": {},
   "source": [
    "#### Шаг 5. Подсчёт выручки|"
   ]
  },
  {
   "cell_type": "code",
   "execution_count": 38,
   "id": "62529477",
   "metadata": {},
   "outputs": [],
   "source": [
    "#Округлим необходимые значения\n",
    "\n",
    "full_data[\"duration\"] = np.ceil(full_data[\"duration\"])"
   ]
  },
  {
   "cell_type": "code",
   "execution_count": 39,
   "id": "53049e0a",
   "metadata": {},
   "outputs": [
    {
     "data": {
      "text/html": [
       "<div>\n",
       "<style scoped>\n",
       "    .dataframe tbody tr th:only-of-type {\n",
       "        vertical-align: middle;\n",
       "    }\n",
       "\n",
       "    .dataframe tbody tr th {\n",
       "        vertical-align: top;\n",
       "    }\n",
       "\n",
       "    .dataframe thead th {\n",
       "        text-align: right;\n",
       "    }\n",
       "</style>\n",
       "<table border=\"1\" class=\"dataframe\">\n",
       "  <thead>\n",
       "    <tr style=\"text-align: right;\">\n",
       "      <th></th>\n",
       "      <th>user_id</th>\n",
       "      <th>month</th>\n",
       "      <th>distance</th>\n",
       "      <th>duration</th>\n",
       "      <th>count</th>\n",
       "    </tr>\n",
       "  </thead>\n",
       "  <tbody>\n",
       "    <tr>\n",
       "      <th>0</th>\n",
       "      <td>1</td>\n",
       "      <td>1</td>\n",
       "      <td>7027.511294</td>\n",
       "      <td>42.0</td>\n",
       "      <td>2</td>\n",
       "    </tr>\n",
       "    <tr>\n",
       "      <th>1</th>\n",
       "      <td>1</td>\n",
       "      <td>4</td>\n",
       "      <td>754.159807</td>\n",
       "      <td>7.0</td>\n",
       "      <td>1</td>\n",
       "    </tr>\n",
       "    <tr>\n",
       "      <th>2</th>\n",
       "      <td>1</td>\n",
       "      <td>8</td>\n",
       "      <td>6723.470560</td>\n",
       "      <td>46.0</td>\n",
       "      <td>2</td>\n",
       "    </tr>\n",
       "    <tr>\n",
       "      <th>3</th>\n",
       "      <td>1</td>\n",
       "      <td>10</td>\n",
       "      <td>5809.911100</td>\n",
       "      <td>32.0</td>\n",
       "      <td>2</td>\n",
       "    </tr>\n",
       "    <tr>\n",
       "      <th>4</th>\n",
       "      <td>1</td>\n",
       "      <td>11</td>\n",
       "      <td>7003.499363</td>\n",
       "      <td>56.0</td>\n",
       "      <td>3</td>\n",
       "    </tr>\n",
       "    <tr>\n",
       "      <th>5</th>\n",
       "      <td>1</td>\n",
       "      <td>12</td>\n",
       "      <td>6751.629942</td>\n",
       "      <td>28.0</td>\n",
       "      <td>2</td>\n",
       "    </tr>\n",
       "    <tr>\n",
       "      <th>6</th>\n",
       "      <td>2</td>\n",
       "      <td>3</td>\n",
       "      <td>10187.723006</td>\n",
       "      <td>63.0</td>\n",
       "      <td>3</td>\n",
       "    </tr>\n",
       "    <tr>\n",
       "      <th>7</th>\n",
       "      <td>2</td>\n",
       "      <td>4</td>\n",
       "      <td>6164.381824</td>\n",
       "      <td>40.0</td>\n",
       "      <td>2</td>\n",
       "    </tr>\n",
       "    <tr>\n",
       "      <th>8</th>\n",
       "      <td>2</td>\n",
       "      <td>6</td>\n",
       "      <td>3255.338202</td>\n",
       "      <td>14.0</td>\n",
       "      <td>1</td>\n",
       "    </tr>\n",
       "    <tr>\n",
       "      <th>9</th>\n",
       "      <td>2</td>\n",
       "      <td>7</td>\n",
       "      <td>6780.722964</td>\n",
       "      <td>48.0</td>\n",
       "      <td>2</td>\n",
       "    </tr>\n",
       "  </tbody>\n",
       "</table>\n",
       "</div>"
      ],
      "text/plain": [
       "   user_id  month      distance  duration  count\n",
       "0        1      1   7027.511294      42.0      2\n",
       "1        1      4    754.159807       7.0      1\n",
       "2        1      8   6723.470560      46.0      2\n",
       "3        1     10   5809.911100      32.0      2\n",
       "4        1     11   7003.499363      56.0      3\n",
       "5        1     12   6751.629942      28.0      2\n",
       "6        2      3  10187.723006      63.0      3\n",
       "7        2      4   6164.381824      40.0      2\n",
       "8        2      6   3255.338202      14.0      1\n",
       "9        2      7   6780.722964      48.0      2"
      ]
     },
     "execution_count": 39,
     "metadata": {},
     "output_type": "execute_result"
    }
   ],
   "source": [
    "#создаем сгруппированную таблицу по пользователям и месяцам и считаем суммы продолжительностей и дистанций поездок, а также число поездок, совершенных пользователем\n",
    "agr = full_data.groupby([\"user_id\", \"month\"]).agg({\"distance\":\"sum\", \"duration\":\"sum\", \"city\":\"count\"}).reset_index()\n",
    "\n",
    "#переиминовываем столбцы\n",
    "agr.columns = ['user_id', 'month', 'distance', 'duration', 'count']\n",
    "agr.head(10)"
   ]
  },
  {
   "cell_type": "code",
   "execution_count": 40,
   "id": "593737fc",
   "metadata": {},
   "outputs": [
    {
     "data": {
      "text/html": [
       "<div>\n",
       "<style scoped>\n",
       "    .dataframe tbody tr th:only-of-type {\n",
       "        vertical-align: middle;\n",
       "    }\n",
       "\n",
       "    .dataframe tbody tr th {\n",
       "        vertical-align: top;\n",
       "    }\n",
       "\n",
       "    .dataframe thead th {\n",
       "        text-align: right;\n",
       "    }\n",
       "</style>\n",
       "<table border=\"1\" class=\"dataframe\">\n",
       "  <thead>\n",
       "    <tr style=\"text-align: right;\">\n",
       "      <th></th>\n",
       "      <th>user_id</th>\n",
       "      <th>month</th>\n",
       "      <th>distance</th>\n",
       "      <th>duration</th>\n",
       "      <th>count</th>\n",
       "      <th>subscription_type</th>\n",
       "    </tr>\n",
       "  </thead>\n",
       "  <tbody>\n",
       "    <tr>\n",
       "      <th>0</th>\n",
       "      <td>1</td>\n",
       "      <td>1</td>\n",
       "      <td>7027.511294</td>\n",
       "      <td>42.0</td>\n",
       "      <td>2</td>\n",
       "      <td>ultra</td>\n",
       "    </tr>\n",
       "    <tr>\n",
       "      <th>1</th>\n",
       "      <td>1</td>\n",
       "      <td>4</td>\n",
       "      <td>754.159807</td>\n",
       "      <td>7.0</td>\n",
       "      <td>1</td>\n",
       "      <td>ultra</td>\n",
       "    </tr>\n",
       "    <tr>\n",
       "      <th>2</th>\n",
       "      <td>1</td>\n",
       "      <td>8</td>\n",
       "      <td>6723.470560</td>\n",
       "      <td>46.0</td>\n",
       "      <td>2</td>\n",
       "      <td>ultra</td>\n",
       "    </tr>\n",
       "    <tr>\n",
       "      <th>3</th>\n",
       "      <td>1</td>\n",
       "      <td>10</td>\n",
       "      <td>5809.911100</td>\n",
       "      <td>32.0</td>\n",
       "      <td>2</td>\n",
       "      <td>ultra</td>\n",
       "    </tr>\n",
       "    <tr>\n",
       "      <th>4</th>\n",
       "      <td>1</td>\n",
       "      <td>11</td>\n",
       "      <td>7003.499363</td>\n",
       "      <td>56.0</td>\n",
       "      <td>3</td>\n",
       "      <td>ultra</td>\n",
       "    </tr>\n",
       "    <tr>\n",
       "      <th>...</th>\n",
       "      <td>...</td>\n",
       "      <td>...</td>\n",
       "      <td>...</td>\n",
       "      <td>...</td>\n",
       "      <td>...</td>\n",
       "      <td>...</td>\n",
       "    </tr>\n",
       "    <tr>\n",
       "      <th>11326</th>\n",
       "      <td>1534</td>\n",
       "      <td>6</td>\n",
       "      <td>3409.468534</td>\n",
       "      <td>26.0</td>\n",
       "      <td>2</td>\n",
       "      <td>free</td>\n",
       "    </tr>\n",
       "    <tr>\n",
       "      <th>11327</th>\n",
       "      <td>1534</td>\n",
       "      <td>8</td>\n",
       "      <td>7622.453034</td>\n",
       "      <td>48.0</td>\n",
       "      <td>2</td>\n",
       "      <td>free</td>\n",
       "    </tr>\n",
       "    <tr>\n",
       "      <th>11328</th>\n",
       "      <td>1534</td>\n",
       "      <td>9</td>\n",
       "      <td>4928.173852</td>\n",
       "      <td>23.0</td>\n",
       "      <td>1</td>\n",
       "      <td>free</td>\n",
       "    </tr>\n",
       "    <tr>\n",
       "      <th>11329</th>\n",
       "      <td>1534</td>\n",
       "      <td>11</td>\n",
       "      <td>13350.015305</td>\n",
       "      <td>78.0</td>\n",
       "      <td>4</td>\n",
       "      <td>free</td>\n",
       "    </tr>\n",
       "    <tr>\n",
       "      <th>11330</th>\n",
       "      <td>1534</td>\n",
       "      <td>12</td>\n",
       "      <td>2371.711192</td>\n",
       "      <td>16.0</td>\n",
       "      <td>1</td>\n",
       "      <td>free</td>\n",
       "    </tr>\n",
       "  </tbody>\n",
       "</table>\n",
       "<p>11331 rows × 6 columns</p>\n",
       "</div>"
      ],
      "text/plain": [
       "       user_id  month      distance  duration  count subscription_type\n",
       "0            1      1   7027.511294      42.0      2             ultra\n",
       "1            1      4    754.159807       7.0      1             ultra\n",
       "2            1      8   6723.470560      46.0      2             ultra\n",
       "3            1     10   5809.911100      32.0      2             ultra\n",
       "4            1     11   7003.499363      56.0      3             ultra\n",
       "...        ...    ...           ...       ...    ...               ...\n",
       "11326     1534      6   3409.468534      26.0      2              free\n",
       "11327     1534      8   7622.453034      48.0      2              free\n",
       "11328     1534      9   4928.173852      23.0      1              free\n",
       "11329     1534     11  13350.015305      78.0      4              free\n",
       "11330     1534     12   2371.711192      16.0      1              free\n",
       "\n",
       "[11331 rows x 6 columns]"
      ]
     },
     "execution_count": 40,
     "metadata": {},
     "output_type": "execute_result"
    }
   ],
   "source": [
    "#в эту же таблицу добавим данные по подписке\n",
    "agr = agr.merge(users[[\"user_id\", \"subscription_type\"]], on=\"user_id\")\n",
    "agr"
   ]
  },
  {
   "cell_type": "code",
   "execution_count": 41,
   "id": "4c54b15b",
   "metadata": {
    "scrolled": true
   },
   "outputs": [
    {
     "data": {
      "text/html": [
       "<div>\n",
       "<style scoped>\n",
       "    .dataframe tbody tr th:only-of-type {\n",
       "        vertical-align: middle;\n",
       "    }\n",
       "\n",
       "    .dataframe tbody tr th {\n",
       "        vertical-align: top;\n",
       "    }\n",
       "\n",
       "    .dataframe thead th {\n",
       "        text-align: right;\n",
       "    }\n",
       "</style>\n",
       "<table border=\"1\" class=\"dataframe\">\n",
       "  <thead>\n",
       "    <tr style=\"text-align: right;\">\n",
       "      <th></th>\n",
       "      <th>user_id</th>\n",
       "      <th>month</th>\n",
       "      <th>distance</th>\n",
       "      <th>duration</th>\n",
       "      <th>count</th>\n",
       "      <th>subscription_type</th>\n",
       "      <th>income</th>\n",
       "    </tr>\n",
       "  </thead>\n",
       "  <tbody>\n",
       "    <tr>\n",
       "      <th>0</th>\n",
       "      <td>1</td>\n",
       "      <td>1</td>\n",
       "      <td>7027.511294</td>\n",
       "      <td>42.0</td>\n",
       "      <td>2</td>\n",
       "      <td>ultra</td>\n",
       "      <td>451</td>\n",
       "    </tr>\n",
       "    <tr>\n",
       "      <th>1</th>\n",
       "      <td>1</td>\n",
       "      <td>4</td>\n",
       "      <td>754.159807</td>\n",
       "      <td>7.0</td>\n",
       "      <td>1</td>\n",
       "      <td>ultra</td>\n",
       "      <td>241</td>\n",
       "    </tr>\n",
       "    <tr>\n",
       "      <th>2</th>\n",
       "      <td>1</td>\n",
       "      <td>8</td>\n",
       "      <td>6723.470560</td>\n",
       "      <td>46.0</td>\n",
       "      <td>2</td>\n",
       "      <td>ultra</td>\n",
       "      <td>475</td>\n",
       "    </tr>\n",
       "    <tr>\n",
       "      <th>3</th>\n",
       "      <td>1</td>\n",
       "      <td>10</td>\n",
       "      <td>5809.911100</td>\n",
       "      <td>32.0</td>\n",
       "      <td>2</td>\n",
       "      <td>ultra</td>\n",
       "      <td>391</td>\n",
       "    </tr>\n",
       "    <tr>\n",
       "      <th>4</th>\n",
       "      <td>1</td>\n",
       "      <td>11</td>\n",
       "      <td>7003.499363</td>\n",
       "      <td>56.0</td>\n",
       "      <td>3</td>\n",
       "      <td>ultra</td>\n",
       "      <td>535</td>\n",
       "    </tr>\n",
       "  </tbody>\n",
       "</table>\n",
       "</div>"
      ],
      "text/plain": [
       "   user_id  month     distance  duration  count subscription_type  income\n",
       "0        1      1  7027.511294      42.0      2             ultra     451\n",
       "1        1      4   754.159807       7.0      1             ultra     241\n",
       "2        1      8  6723.470560      46.0      2             ultra     475\n",
       "3        1     10  5809.911100      32.0      2             ultra     391\n",
       "4        1     11  7003.499363      56.0      3             ultra     535"
      ]
     },
     "execution_count": 41,
     "metadata": {},
     "output_type": "execute_result"
    }
   ],
   "source": [
    "#выведем фиксированные значения\n",
    "minute_price_free = sub.loc[0, \"minute_price\"]\n",
    "minute_price_ultra = sub.loc[1, \"minute_price\"] \n",
    "start_free = sub.loc[0, \"start_ride_price\"]\n",
    "ultra_price = sub.loc[1, \"subscription_fee\"]\n",
    "\n",
    "\n",
    "#добавим пустой столбец и заполним его исходя из условий поездок\n",
    "agr[\"income\"] = 0\n",
    "#если подписка не активна то выручка равна длине поездки умноженной на тариф + число поездок умноженное на стартовый прайс\n",
    "agr.loc[agr[\"subscription_type\"] == \"free\", \"income\"] = agr[\"duration\"] * minute_price_free + start_free*agr[\"count\"]\n",
    "#если подписка активна, то выручка равна цене подписки за месяц + длина поездки умноженная на тариф по подписке\n",
    "agr.loc[agr[\"subscription_type\"] == \"ultra\", \"income\"] = agr[\"duration\"] * minute_price_ultra + ultra_price\n",
    "agr.head()"
   ]
  },
  {
   "cell_type": "markdown",
   "id": "b3da46d0",
   "metadata": {},
   "source": [
    "Таким образом, проведенные операции с таблицами, позволили необходимым образом совместить имеющиеся данные и подсчитать информацию о средней выручке от всех пользователей по всем месецам, на основе чего будет проверена одна из гипотез"
   ]
  },
  {
   "cell_type": "markdown",
   "id": "41545ac0",
   "metadata": {},
   "source": [
    "#### Шаг 6. Проверка гипотез"
   ]
  },
  {
   "cell_type": "markdown",
   "id": "0420268a",
   "metadata": {},
   "source": [
    "<strong> В рамках данного шага необходимо проверить следующие поставленные гипотезы: </strong>\n",
    "    \n",
    "    время поездок пользователей с подпиской больше, чем время поездок пользователей без нее\n",
    "    \n",
    "    пользователи с подпиской проезжают в среднем за поездку меньше 3130 м.\n",
    "    \n",
    "    пользователи с подпиской платят за месяц больше, чем пользователи без.\n",
    "    \n",
    "    после обновления мобильного приложения, количество обращений в поддержку уменьшилось\n",
    "    \n",
    "    \n",
    "    "
   ]
  },
  {
   "cell_type": "code",
   "execution_count": 42,
   "id": "48b46666",
   "metadata": {},
   "outputs": [
    {
     "data": {
      "text/plain": [
       "0       26.0\n",
       "1       16.0\n",
       "2        7.0\n",
       "3       19.0\n",
       "4       27.0\n",
       "        ... \n",
       "6495    25.0\n",
       "6496    16.0\n",
       "6497    15.0\n",
       "6498    16.0\n",
       "6499    26.0\n",
       "Name: duration, Length: 6500, dtype: float64"
      ]
     },
     "execution_count": 42,
     "metadata": {},
     "output_type": "execute_result"
    }
   ],
   "source": [
    "#Подготавливаем наборы данных для сравнения \n",
    "\n",
    "#продолжительность с подпиской и без\n",
    "duration_free = full_data.query(\"subscription_type == 'free'\")[\"duration\"]\n",
    "duration_ultra = full_data.query(\"subscription_type == 'ultra'\")[\"duration\"]\n",
    "\n",
    "distance_ultra = full_data.query(\"subscription_type == 'ultra'\")[\"distance\"]\n",
    "\n",
    "#выручка с подпиской и без\n",
    "income_free = agr.query(\"subscription_type == 'free'\")[\"income\"]\n",
    "income_ultra = agr.query(\"subscription_type == 'ultra'\")[\"income\"]\n",
    "\n",
    "duration_ultra"
   ]
  },
  {
   "cell_type": "markdown",
   "id": "ff8b8948",
   "metadata": {},
   "source": [
    "##### Вреемя поездок пользователей с подпиской и без"
   ]
  },
  {
   "cell_type": "markdown",
   "id": "3cced9bd",
   "metadata": {},
   "source": [
    "- Нулевая гипотеза: время поездок пользователей с подпиской и без равны\n",
    "- Альтернативная гипотеза: время поездок пользователей с подпиской больше, чем время поездок пользователей без нее"
   ]
  },
  {
   "cell_type": "code",
   "execution_count": 43,
   "id": "d7321c98",
   "metadata": {},
   "outputs": [
    {
     "name": "stdout",
     "output_type": "stream",
     "text": [
      "Нулевая гипотеза отвергается\n",
      "значение pvalue: 2.4959453720736625e-34\n"
     ]
    }
   ],
   "source": [
    "#устанавливаем уровень значимости\n",
    "alpha = 0.01\n",
    "\n",
    "#Делаем двувыборочный t-test для двух независимых выборок, с односторонней альтернативной гипотезой (среднее по 1й группе > среднего по 2й)\n",
    "result = st.ttest_ind(duration_ultra, duration_free, alternative='greater')\n",
    "\n",
    "#На основе сравнения p-значения с выбранным уровнем стат-значимости делаем выводы о состоянии H0:\n",
    "if result.pvalue < alpha:\n",
    "    print(\"Нулевая гипотеза отвергается\")\n",
    "else:\n",
    "    print(\"Нулевая гипоьеза не отвергается\")\n",
    "    \n",
    "print(f\"значение pvalue: {result.pvalue}\")"
   ]
  },
  {
   "cell_type": "markdown",
   "id": "3bc42709",
   "metadata": {},
   "source": [
    "Результат показывает, что среднее по первой группе (duration_ultra) значительно отличается от среднего второй группы (duration_free) на уровне значимости 0.01. Вероятность получить наблюдаемое различее случано - очень мала\n",
    "\n",
    "\n",
    "Нулевая гипотеза отвергается в пользу альтернаитивной: <strong> среднее время поездок пользователей с подпиской больше времени поездок пользователей без нее </strong>"
   ]
  },
  {
   "cell_type": "markdown",
   "id": "9977d343",
   "metadata": {},
   "source": [
    "##### Дистанция поездки пользователей с подпиской"
   ]
  },
  {
   "cell_type": "markdown",
   "id": "4c75dbed",
   "metadata": {},
   "source": [
    "- Нулевая гипотеза: пользователи с подпиской проезжают за поездку 3130 м.\n",
    "- Альтернативная гипотеза: пользователи с подпиской проезжают за поездку меньше 3130 м."
   ]
  },
  {
   "cell_type": "code",
   "execution_count": 44,
   "id": "f3dae7e8",
   "metadata": {},
   "outputs": [
    {
     "name": "stdout",
     "output_type": "stream",
     "text": [
      "Нулевая гипоьеза не отвергается\n",
      "значение pvalue: 0.08046311521502146\n"
     ]
    }
   ],
   "source": [
    "optimal = 3130\n",
    "\n",
    "#устанавливаем уровень значимости\n",
    "alpha = 0.01\n",
    "\n",
    "#Делаем двувыборочный t-test для двух независимых выборок, с односторонней альтернативной гипотезой (среднее по 1й группе > среднего по 2й)\n",
    "result = st.ttest_1samp(distance_ultra, optimal, alternative='less')\n",
    "\n",
    "#На основе сравнения p-значения с выбранным уровнем стат-значимости делаем выводы о состоянии H0:\n",
    "if result.pvalue < alpha:\n",
    "    print(\"Нулевая гипотеза отвергается\")\n",
    "else:\n",
    "    print(\"Нулевая гипоьеза не отвергается\")\n",
    "    \n",
    "print(f\"значение pvalue: {result.pvalue}\")"
   ]
  },
  {
   "cell_type": "markdown",
   "id": "6888729b",
   "metadata": {},
   "source": [
    "С верояьностью, превышающей уровень статистической значимости, наблюдаемой различие можно получить случайно\n",
    "\n",
    "Нулевая гипотеза не отвергается, следовательно нельзя принять альтернативную, <strong>  так что нельзя сказать, что пользователи с подпиской проезжают меньше 3130 м. </strong>. Такой вывод можно бы было сделать на уровне стат значимости 0.09, но это недостаточно достоверно"
   ]
  },
  {
   "cell_type": "markdown",
   "id": "38683252",
   "metadata": {},
   "source": [
    "##### Выручка от пользователей с подпсикой и без"
   ]
  },
  {
   "cell_type": "markdown",
   "id": "7f2b8126",
   "metadata": {},
   "source": [
    "- Нулевая гипотеза: месячные выплаты пользователи с подпиской и без равны.\n",
    "- Альтернативная гипотеза: пользователи с подпиской платят за месяц больше, чем пользователи без."
   ]
  },
  {
   "cell_type": "code",
   "execution_count": 45,
   "id": "d025a085",
   "metadata": {},
   "outputs": [
    {
     "name": "stdout",
     "output_type": "stream",
     "text": [
      "Нулевая гипотеза отвергается\n",
      "значение pvalue: 1.8850394384715216e-31\n"
     ]
    }
   ],
   "source": [
    "#устанавливаем уровень значимости\n",
    "alpha = 0.01\n",
    "\n",
    "#Делаем двувыборочный t-test для двух независимых выборок, с односторонней альтернативной гипотезой (среднее по 1й группе > среднего по 2й)\n",
    "result = st.ttest_ind(income_ultra, income_free, alternative='greater')\n",
    "\n",
    "#На основе сравнения p-значения с выбранным уровнем стат-значимости делаем выводы о состоянии H0:\n",
    "if result.pvalue < alpha:\n",
    "    print(\"Нулевая гипотеза отвергается\")\n",
    "else:\n",
    "    print(\"Нулевая гипоьеза не отвергается\")\n",
    "    \n",
    "print(f\"значение pvalue: {result.pvalue}\")"
   ]
  },
  {
   "cell_type": "markdown",
   "id": "217f648d",
   "metadata": {},
   "source": [
    "Результат показывает, что среднее по первой группе (income_ultra) значительно отличается от среднего второй группы (income_free) на уровне значимости 0.01. Вероятность получить наблюдаемое различее случано - очень мала\n",
    "\n",
    "Нулевая гипотеза отвергается, следовательно принимается альтернативная: <strong> пользователи с подпиской платят больше, чем пользователи без. </strong>"
   ]
  },
  {
   "cell_type": "markdown",
   "id": "92702f1e",
   "metadata": {},
   "source": [
    "#### Количество обращений в поддержку до и после "
   ]
  },
  {
   "cell_type": "markdown",
   "id": "3c04c216",
   "metadata": {},
   "source": [
    "В данном случае для проверки изменения числа обращений в поддержку использовался бы тест для сравнения средних между зависимыми парными выборками: двубыборочный зависимый t-test с односторонней альтернативной гипотезей: поскольку речь идет об одной и той же генеральной совокупности, и соответсвенно выборке. Вопрос об изменении поведения одной и той же группы пользователей до введения изменений и после.\n",
    "\n",
    "Если p-value по данному тесту не будет привышать уровня стат. значимости, то, отвергнув нулевую гипотезу о равенстве времен обращения, можно будет сказать, что число обращений после обновления уменьшилось"
   ]
  },
  {
   "cell_type": "markdown",
   "id": "38703aa6",
   "metadata": {},
   "source": [
    "### Апроксимация распределения для оценки вероятности реакции пользователей на уведомления"
   ]
  },
  {
   "cell_type": "markdown",
   "id": "0e55636d",
   "metadata": {},
   "source": [
    "Отдел маркетинга рассылает клиентам push-уведомления в мобильном приложении. Клиенты могут открыть его или не открывать. Уведомления открывают около \n",
    "40% получивших клиентов. Отдел планирует разослать \n",
    "1.1 млн уведомлений. \n",
    "\n",
    "Необходимо оценить вероятность того, что уведомление откроют не более 399,5 тыс. пользователей."
   ]
  },
  {
   "cell_type": "markdown",
   "id": "b0b108c6",
   "metadata": {},
   "source": [
    "**Подготовим данные и убедимся в том, что апроксимацию можно использвоать:**"
   ]
  },
  {
   "cell_type": "code",
   "execution_count": 82,
   "id": "2c710a6f",
   "metadata": {},
   "outputs": [
    {
     "name": "stdout",
     "output_type": "stream",
     "text": [
      "количество обращений 1161\n"
     ]
    }
   ],
   "source": [
    "#Найдем количество обращений \n",
    "n = 101\n",
    "p = 0.1\n",
    "\n",
    "miss_prob = 100\n",
    "\n",
    "\n",
    "while miss_prob >= 5:\n",
    "    distr = 0\n",
    "    miss_prob = 0\n",
    "    \n",
    "    for k in range(0, 100):\n",
    "        current_value = binom.pmf(k, n, p)\n",
    "        distr += current_value\n",
    "\n",
    "    miss_prob = distr*100\n",
    "    n += 1\n",
    "\n",
    "print(f'количество обращений {n-1}')"
   ]
  },
  {
   "cell_type": "code",
   "execution_count": 83,
   "id": "104ab933",
   "metadata": {},
   "outputs": [
    {
     "name": "stdout",
     "output_type": "stream",
     "text": [
      "Вероятность пропуска 4.976090094990326\n"
     ]
    }
   ],
   "source": [
    "#\n",
    "n = 1161\n",
    "p = 0.1\n",
    "miss_prob = 0\n",
    "distr = []\n",
    "for k in range(n):\n",
    "    value = binom.pmf(k, n, p)\n",
    "    distr.append(value)\n",
    "    \n",
    "for i in range(100):\n",
    "    miss_prob += distr[i]\n",
    "print(f'Вероятность пропуска {miss_prob*100}')"
   ]
  },
  {
   "cell_type": "code",
   "execution_count": 84,
   "id": "b697a58e",
   "metadata": {},
   "outputs": [
    {
     "name": "stdout",
     "output_type": "stream",
     "text": [
      "Aproximation allowded\n"
     ]
    }
   ],
   "source": [
    "n = 1000000\n",
    "p = 0.4\n",
    "\n",
    "treashold = 399500\n",
    "\n",
    "mu = n*p\n",
    "sigma = sqrt(n*p*(1-p))\n",
    "\n",
    "if mu - 3*sigma > 0 and mu + 3*sigma < n:\n",
    "    print(\"Aproximation allowded\")\n",
    "    "
   ]
  },
  {
   "cell_type": "markdown",
   "id": "555dc681",
   "metadata": {},
   "source": [
    "Использование апроксимации допускается"
   ]
  },
  {
   "cell_type": "code",
   "execution_count": 90,
   "id": "e7fa417b",
   "metadata": {},
   "outputs": [
    {
     "name": "stdout",
     "output_type": "stream",
     "text": [
      "Оцениваемая вероятность: 0.15323384973591647\n"
     ]
    }
   ],
   "source": [
    "#Задаем параметры \n",
    "n = 1000000\n",
    "p = 0.4\n",
    "\n",
    "treashold = 399500\n",
    "\n",
    "mu = n*p\n",
    "sigma = sqrt(n*p*(1-p))\n",
    "\n",
    "\n",
    "distr = norm(mu, sigma)\n",
    "result = distr.cdf(treashold - 1)\n",
    "print(f'Оцениваемая вероятность: {result}') "
   ]
  },
  {
   "cell_type": "code",
   "execution_count": 91,
   "id": "8ff0b17b",
   "metadata": {},
   "outputs": [
    {
     "data": {
      "image/png": "[encoded data removed]",
      "text/plain": [
       "<Figure size 640x480 with 1 Axes>"
      ]
     },
     "metadata": {},
     "output_type": "display_data"
    }
   ],
   "source": [
    "figure(figsize=(8, 6), dpi=80)\n",
    "# x-axis ranges from -3 and 3 with .001 steps\n",
    "arange = np.arange(\n",
    "        (mu - 4 * sigma), \n",
    "        (mu + 4 * sigma), \n",
    "        0.001)\n",
    "\n",
    "plt.plot(arange, st.norm.pdf(arange, mu, sigma), 'b-')\n",
    "plt.axvline(x=399500, color='red')\n",
    "\n",
    "# Добавляем названия осей\n",
    "plt.xlabel('Значение переменной X')  # Название оси X\n",
    "plt.ylabel('Плотность вероятности')  # Название оси Y\n",
    "\n",
    "plt.title('Апроксимация нормальным распределением распределения вероятностей числа ответов на рассылку')\n",
    "plt.show()\n"
   ]
  },
  {
   "cell_type": "markdown",
   "id": "df9bf516",
   "metadata": {},
   "source": [
    "Таким образом, вероятность, что объявление откруют не более 399,5 тыс. пользователей довольно мала и равняется 15%"
   ]
  },
  {
   "cell_type": "markdown",
   "id": "6aa82e4a",
   "metadata": {},
   "source": [
    "#### Выводы"
   ]
  },
  {
   "cell_type": "markdown",
   "id": "3f3ec46e",
   "metadata": {},
   "source": [
    "В рамках текущего проекта был произведен спектр действий от превого знакомства данных до составления рейтингов и выводов о состоянии изучаемых явлений. В ходе работы удалось:\n",
    "\n",
    "* Обработать и заменить пропуски в данных: \n",
    "\n",
    "      Избавиться от некоторых дубликатов \n",
    "    \n",
    "      Добавить необходимый столбцы, нампример месяц совершения поездки\n",
    "    \n",
    "      Преобразовать типы данный\n",
    "\n",
    "* Осуществить исследовательский анализ:\n",
    "\n",
    "      Состать рейтинг по полулярности городов в выборке пользователей: самый менее популярный - Москва, наиболее популярный - Пятигорск\n",
    "      \n",
    "      Сравнить рейтинг количества пользователей с подпиской и без: пользователей с подпиской меньше примерно на 150 человек\n",
    "      \n",
    "      Состать рейтинг по возростам: возроста пользователей в выборке распределены нормально со средним в 25 лет.\n",
    "      \n",
    "      Представить распределение по длинее поездок: все длины уникальны и распределены нормально со средним в 3070 м.\n",
    "      \n",
    "      Представить распределение по длительности поездок: все длины уникальны (кроме выброса с 95ю оборвавшимися поездками) и распределены нормально со средним в 18 минут\n",
    "\n",
    "* Преобразователь, сгруппировать таблицы и посчитать среднб выручку по пользователям и месецам\n",
    "\n",
    "* На основе полученных данных, проверить поставленные гипотезы и получить следующие выводы:\n",
    "         \n",
    "      Среднее время поездок пользователей с подпиской больше времени поездок пользователей без нее\n",
    "      \n",
    "      Пользователи с подпиской проезжают меньше 3130 м.\n",
    "      \n",
    "      Пользователи с подпиской в среднем платят больше, чем пользователи без нее\n",
    "      \n",
    "*вероятность того, что уведомление откроют не более 399,5 тыс. пользователей - 15%*\n",
    "       \n",
    "\n",
    "Таким образом результате проделанных шагов, удалось получить представление о состоянии доходности в фирме GoFast от пользователей разных категорий, а также особенности их потребительского поведения      "
   ]
  },
  {
   "cell_type": "code",
   "execution_count": null,
   "id": "1934decd",
   "metadata": {},
   "outputs": [],
   "source": []
  }
 ],
 "metadata": {
  "ExecuteTimeLog": [
   {
    "duration": 420,
    "start_time": "2023-12-19T13:30:14.550Z"
   },
   {
    "duration": 72,
    "start_time": "2023-12-19T13:30:16.262Z"
   },
   {
    "duration": 61,
    "start_time": "2023-12-19T13:30:33.622Z"
   },
   {
    "duration": 2,
    "start_time": "2023-12-19T13:33:29.204Z"
   },
   {
    "duration": 74,
    "start_time": "2023-12-19T13:33:33.006Z"
   },
   {
    "duration": 194,
    "start_time": "2023-12-19T13:36:02.524Z"
   },
   {
    "duration": 11,
    "start_time": "2023-12-19T13:36:16.469Z"
   },
   {
    "duration": 9,
    "start_time": "2023-12-19T13:36:22.706Z"
   },
   {
    "duration": 31,
    "start_time": "2023-12-19T13:37:00.179Z"
   },
   {
    "duration": 28,
    "start_time": "2023-12-19T13:37:35.086Z"
   },
   {
    "duration": 30,
    "start_time": "2023-12-19T13:37:45.504Z"
   },
   {
    "duration": 26,
    "start_time": "2023-12-19T13:37:55.683Z"
   },
   {
    "duration": 15,
    "start_time": "2023-12-19T13:41:31.339Z"
   },
   {
    "duration": 8,
    "start_time": "2023-12-19T13:41:40.039Z"
   },
   {
    "duration": 67,
    "start_time": "2023-12-19T13:41:56.148Z"
   },
   {
    "duration": 28,
    "start_time": "2023-12-19T13:41:58.234Z"
   },
   {
    "duration": 8,
    "start_time": "2023-12-19T13:42:01.582Z"
   },
   {
    "duration": 663,
    "start_time": "2023-12-19T13:45:05.481Z"
   },
   {
    "duration": 261,
    "start_time": "2023-12-19T13:45:46.417Z"
   },
   {
    "duration": 552,
    "start_time": "2023-12-19T13:50:17.880Z"
   },
   {
    "duration": 405,
    "start_time": "2023-12-19T13:50:26.451Z"
   },
   {
    "duration": 400,
    "start_time": "2023-12-19T13:50:36.867Z"
   },
   {
    "duration": 283,
    "start_time": "2023-12-19T13:50:47.100Z"
   },
   {
    "duration": 271,
    "start_time": "2023-12-19T13:50:53.652Z"
   },
   {
    "duration": 394,
    "start_time": "2023-12-19T13:51:04.441Z"
   },
   {
    "duration": 7,
    "start_time": "2023-12-19T13:52:13.099Z"
   },
   {
    "duration": 16,
    "start_time": "2023-12-19T13:53:40.240Z"
   },
   {
    "duration": 7,
    "start_time": "2023-12-19T13:53:50.679Z"
   },
   {
    "duration": 7,
    "start_time": "2023-12-19T13:53:54.326Z"
   },
   {
    "duration": 16,
    "start_time": "2023-12-19T13:54:41.312Z"
   },
   {
    "duration": 7,
    "start_time": "2023-12-19T13:54:57.365Z"
   },
   {
    "duration": 13,
    "start_time": "2023-12-19T13:55:04.115Z"
   },
   {
    "duration": 1138,
    "start_time": "2023-12-19T13:55:33.751Z"
   },
   {
    "duration": 9,
    "start_time": "2023-12-19T13:55:43.954Z"
   },
   {
    "duration": 4,
    "start_time": "2023-12-19T13:56:17.979Z"
   },
   {
    "duration": 7,
    "start_time": "2023-12-19T13:57:34.625Z"
   },
   {
    "duration": 8,
    "start_time": "2023-12-19T13:57:51.027Z"
   },
   {
    "duration": 5,
    "start_time": "2023-12-19T13:58:57.562Z"
   },
   {
    "duration": 275,
    "start_time": "2023-12-19T14:00:12.266Z"
   },
   {
    "duration": 2,
    "start_time": "2023-12-19T14:00:28.911Z"
   },
   {
    "duration": 255,
    "start_time": "2023-12-19T14:00:32.170Z"
   },
   {
    "duration": 895,
    "start_time": "2023-12-19T14:00:44.336Z"
   },
   {
    "duration": 893,
    "start_time": "2023-12-19T14:00:57.413Z"
   },
   {
    "duration": 334,
    "start_time": "2023-12-19T14:01:16.009Z"
   },
   {
    "duration": 748,
    "start_time": "2023-12-19T14:01:26.350Z"
   },
   {
    "duration": 602,
    "start_time": "2023-12-19T14:01:31.988Z"
   },
   {
    "duration": 642,
    "start_time": "2023-12-19T14:01:40.355Z"
   },
   {
    "duration": 641,
    "start_time": "2023-12-19T14:01:45.056Z"
   },
   {
    "duration": 664,
    "start_time": "2023-12-19T14:01:51.875Z"
   },
   {
    "duration": 1200,
    "start_time": "2023-12-19T14:01:57.393Z"
   },
   {
    "duration": 589,
    "start_time": "2023-12-19T14:02:04.411Z"
   },
   {
    "duration": 458,
    "start_time": "2023-12-19T14:02:10.173Z"
   },
   {
    "duration": 461,
    "start_time": "2023-12-19T14:02:16.471Z"
   },
   {
    "duration": 260,
    "start_time": "2023-12-19T14:02:21.382Z"
   },
   {
    "duration": 7,
    "start_time": "2023-12-19T14:03:27.165Z"
   },
   {
    "duration": 17,
    "start_time": "2023-12-19T14:03:34.073Z"
   },
   {
    "duration": 5,
    "start_time": "2023-12-19T14:05:21.144Z"
   },
   {
    "duration": 6,
    "start_time": "2023-12-19T14:05:32.619Z"
   },
   {
    "duration": 10,
    "start_time": "2023-12-19T14:05:44.355Z"
   },
   {
    "duration": 34,
    "start_time": "2023-12-19T14:06:16.365Z"
   },
   {
    "duration": 8,
    "start_time": "2023-12-19T14:09:04.900Z"
   },
   {
    "duration": 3,
    "start_time": "2023-12-19T14:09:24.585Z"
   },
   {
    "duration": 6,
    "start_time": "2023-12-19T14:09:27.824Z"
   },
   {
    "duration": 8,
    "start_time": "2023-12-19T14:09:59.364Z"
   },
   {
    "duration": 6,
    "start_time": "2023-12-19T14:10:11.325Z"
   },
   {
    "duration": 1214,
    "start_time": "2023-12-19T14:11:56.197Z"
   },
   {
    "duration": 7,
    "start_time": "2023-12-19T14:12:28.259Z"
   },
   {
    "duration": 7,
    "start_time": "2023-12-19T14:12:40.374Z"
   },
   {
    "duration": 6,
    "start_time": "2023-12-19T14:12:51.048Z"
   },
   {
    "duration": 11,
    "start_time": "2023-12-19T14:13:02.877Z"
   },
   {
    "duration": 10,
    "start_time": "2023-12-19T14:13:08.649Z"
   },
   {
    "duration": 9,
    "start_time": "2023-12-19T14:13:54.186Z"
   },
   {
    "duration": 10,
    "start_time": "2023-12-19T14:14:02.770Z"
   },
   {
    "duration": 6,
    "start_time": "2023-12-19T14:14:05.801Z"
   },
   {
    "duration": 10,
    "start_time": "2023-12-19T14:14:16.944Z"
   },
   {
    "duration": 6,
    "start_time": "2023-12-19T14:14:26.674Z"
   },
   {
    "duration": 6,
    "start_time": "2023-12-19T14:15:44.268Z"
   },
   {
    "duration": 10,
    "start_time": "2023-12-19T14:15:48.022Z"
   },
   {
    "duration": 10,
    "start_time": "2023-12-19T14:15:52.646Z"
   },
   {
    "duration": 9,
    "start_time": "2023-12-19T14:16:01.036Z"
   },
   {
    "duration": 9,
    "start_time": "2023-12-19T14:16:09.897Z"
   },
   {
    "duration": 5,
    "start_time": "2023-12-19T14:16:16.740Z"
   },
   {
    "duration": 10,
    "start_time": "2023-12-19T14:16:19.775Z"
   },
   {
    "duration": 9,
    "start_time": "2023-12-19T14:17:43.634Z"
   },
   {
    "duration": 12,
    "start_time": "2023-12-19T14:17:48.418Z"
   },
   {
    "duration": 135,
    "start_time": "2023-12-19T14:18:37.507Z"
   },
   {
    "duration": 12,
    "start_time": "2023-12-19T14:21:01.713Z"
   },
   {
    "duration": 450,
    "start_time": "2023-12-19T14:21:43.839Z"
   },
   {
    "duration": 145,
    "start_time": "2023-12-19T14:22:15.544Z"
   },
   {
    "duration": 73,
    "start_time": "2023-12-19T14:22:26.721Z"
   },
   {
    "duration": 8,
    "start_time": "2023-12-19T14:22:39.010Z"
   },
   {
    "duration": 148,
    "start_time": "2023-12-19T14:22:42.412Z"
   },
   {
    "duration": 172,
    "start_time": "2023-12-19T14:22:59.562Z"
   },
   {
    "duration": 78,
    "start_time": "2023-12-19T14:23:26.681Z"
   },
   {
    "duration": 7,
    "start_time": "2023-12-19T14:23:32.468Z"
   },
   {
    "duration": 157,
    "start_time": "2023-12-19T14:23:43.517Z"
   },
   {
    "duration": 10,
    "start_time": "2023-12-19T14:25:55.608Z"
   },
   {
    "duration": 156,
    "start_time": "2023-12-19T14:25:59.390Z"
   },
   {
    "duration": 425,
    "start_time": "2023-12-19T14:27:00.487Z"
   },
   {
    "duration": 394,
    "start_time": "2023-12-19T14:27:30.132Z"
   },
   {
    "duration": 410,
    "start_time": "2023-12-19T14:27:55.119Z"
   },
   {
    "duration": 143,
    "start_time": "2023-12-19T14:28:09.920Z"
   },
   {
    "duration": 145,
    "start_time": "2023-12-19T14:28:25.739Z"
   },
   {
    "duration": 156,
    "start_time": "2023-12-19T14:28:43.675Z"
   },
   {
    "duration": 148,
    "start_time": "2023-12-19T14:29:20.385Z"
   },
   {
    "duration": 44,
    "start_time": "2023-12-19T18:34:58.734Z"
   },
   {
    "duration": 763,
    "start_time": "2023-12-19T18:35:10.424Z"
   },
   {
    "duration": 189,
    "start_time": "2023-12-19T18:35:11.189Z"
   },
   {
    "duration": 28,
    "start_time": "2023-12-19T18:35:11.380Z"
   },
   {
    "duration": 280,
    "start_time": "2023-12-19T18:35:11.410Z"
   },
   {
    "duration": 880,
    "start_time": "2023-12-19T18:35:11.691Z"
   },
   {
    "duration": 6,
    "start_time": "2023-12-19T18:35:12.573Z"
   },
   {
    "duration": 43,
    "start_time": "2023-12-19T18:35:12.580Z"
   },
   {
    "duration": 13,
    "start_time": "2023-12-19T18:35:12.625Z"
   },
   {
    "duration": 10,
    "start_time": "2023-12-19T18:35:12.639Z"
   },
   {
    "duration": 14,
    "start_time": "2023-12-19T18:35:12.651Z"
   },
   {
    "duration": 33,
    "start_time": "2023-12-19T18:35:12.666Z"
   },
   {
    "duration": 10,
    "start_time": "2023-12-19T18:35:12.700Z"
   },
   {
    "duration": 18,
    "start_time": "2023-12-19T18:35:12.712Z"
   },
   {
    "duration": 145,
    "start_time": "2023-12-19T18:35:12.731Z"
   },
   {
    "duration": 8,
    "start_time": "2023-12-19T18:35:12.877Z"
   },
   {
    "duration": 299,
    "start_time": "2023-12-19T18:38:21.314Z"
   },
   {
    "duration": 9,
    "start_time": "2023-12-19T18:38:48.928Z"
   },
   {
    "duration": 8,
    "start_time": "2023-12-19T18:39:13.649Z"
   },
   {
    "duration": 15,
    "start_time": "2023-12-19T18:39:25.482Z"
   },
   {
    "duration": 1193,
    "start_time": "2023-12-19T18:40:19.253Z"
   },
   {
    "duration": 167,
    "start_time": "2023-12-19T18:40:41.494Z"
   },
   {
    "duration": 102,
    "start_time": "2023-12-19T18:43:09.559Z"
   },
   {
    "duration": 100,
    "start_time": "2023-12-19T18:43:17.871Z"
   },
   {
    "duration": 118,
    "start_time": "2023-12-19T18:43:39.265Z"
   },
   {
    "duration": 116,
    "start_time": "2023-12-19T18:43:57.618Z"
   },
   {
    "duration": 144,
    "start_time": "2023-12-19T18:44:11.329Z"
   },
   {
    "duration": 6,
    "start_time": "2023-12-19T18:45:25.087Z"
   },
   {
    "duration": 11,
    "start_time": "2023-12-19T18:46:09.048Z"
   },
   {
    "duration": 11,
    "start_time": "2023-12-19T18:46:40.843Z"
   },
   {
    "duration": 133,
    "start_time": "2023-12-19T18:46:44.866Z"
   },
   {
    "duration": 7,
    "start_time": "2023-12-19T18:46:53.318Z"
   },
   {
    "duration": 13,
    "start_time": "2023-12-19T18:46:58.682Z"
   },
   {
    "duration": 244,
    "start_time": "2023-12-19T18:47:39.055Z"
   },
   {
    "duration": 237,
    "start_time": "2023-12-19T18:48:09.842Z"
   },
   {
    "duration": 519,
    "start_time": "2023-12-19T18:48:41.633Z"
   },
   {
    "duration": 460,
    "start_time": "2023-12-19T18:48:53.703Z"
   },
   {
    "duration": 516,
    "start_time": "2023-12-19T18:49:27.164Z"
   },
   {
    "duration": 473,
    "start_time": "2023-12-19T18:49:54.959Z"
   },
   {
    "duration": 106,
    "start_time": "2023-12-19T18:50:32.566Z"
   },
   {
    "duration": 105,
    "start_time": "2023-12-19T18:50:44.284Z"
   },
   {
    "duration": 179,
    "start_time": "2023-12-19T18:50:55.779Z"
   },
   {
    "duration": 464,
    "start_time": "2023-12-19T18:51:01.192Z"
   },
   {
    "duration": 461,
    "start_time": "2023-12-19T18:51:38.871Z"
   },
   {
    "duration": 290,
    "start_time": "2023-12-19T18:53:44.505Z"
   },
   {
    "duration": 18,
    "start_time": "2023-12-19T18:53:53.984Z"
   },
   {
    "duration": 20,
    "start_time": "2023-12-19T18:54:05.632Z"
   },
   {
    "duration": 601,
    "start_time": "2023-12-19T18:55:49.487Z"
   },
   {
    "duration": 66,
    "start_time": "2023-12-19T18:55:50.089Z"
   },
   {
    "duration": 30,
    "start_time": "2023-12-19T18:55:50.156Z"
   },
   {
    "duration": 261,
    "start_time": "2023-12-19T18:55:50.187Z"
   },
   {
    "duration": 809,
    "start_time": "2023-12-19T18:55:50.451Z"
   },
   {
    "duration": 7,
    "start_time": "2023-12-19T18:55:51.261Z"
   },
   {
    "duration": 62,
    "start_time": "2023-12-19T18:55:51.270Z"
   },
   {
    "duration": 26,
    "start_time": "2023-12-19T18:55:51.334Z"
   },
   {
    "duration": 19,
    "start_time": "2023-12-19T18:55:51.362Z"
   },
   {
    "duration": 33,
    "start_time": "2023-12-19T18:55:51.383Z"
   },
   {
    "duration": 19,
    "start_time": "2023-12-19T18:55:51.418Z"
   },
   {
    "duration": 21,
    "start_time": "2023-12-19T18:55:51.439Z"
   },
   {
    "duration": 14,
    "start_time": "2023-12-19T18:55:51.461Z"
   },
   {
    "duration": 147,
    "start_time": "2023-12-19T18:55:51.477Z"
   },
   {
    "duration": 11,
    "start_time": "2023-12-19T18:55:51.626Z"
   },
   {
    "duration": 183,
    "start_time": "2023-12-19T18:55:51.639Z"
   },
   {
    "duration": 12,
    "start_time": "2023-12-19T18:55:51.823Z"
   },
   {
    "duration": 482,
    "start_time": "2023-12-19T18:55:51.836Z"
   },
   {
    "duration": 16,
    "start_time": "2023-12-19T18:55:52.319Z"
   },
   {
    "duration": 54,
    "start_time": "2023-12-19T18:56:20.644Z"
   },
   {
    "duration": 581,
    "start_time": "2023-12-19T18:56:29.674Z"
   },
   {
    "duration": 65,
    "start_time": "2023-12-19T18:56:30.256Z"
   },
   {
    "duration": 29,
    "start_time": "2023-12-19T18:56:30.323Z"
   },
   {
    "duration": 311,
    "start_time": "2023-12-19T18:56:30.353Z"
   },
   {
    "duration": 714,
    "start_time": "2023-12-19T18:56:30.666Z"
   },
   {
    "duration": 72,
    "start_time": "2023-12-19T18:56:31.381Z"
   },
   {
    "duration": 7,
    "start_time": "2023-12-19T18:56:31.454Z"
   },
   {
    "duration": 20,
    "start_time": "2023-12-19T18:56:31.463Z"
   },
   {
    "duration": 45,
    "start_time": "2023-12-19T18:56:31.484Z"
   },
   {
    "duration": 26,
    "start_time": "2023-12-19T18:56:31.531Z"
   },
   {
    "duration": 38,
    "start_time": "2023-12-19T18:56:31.558Z"
   },
   {
    "duration": 46,
    "start_time": "2023-12-19T18:56:31.598Z"
   },
   {
    "duration": 45,
    "start_time": "2023-12-19T18:56:31.646Z"
   },
   {
    "duration": 175,
    "start_time": "2023-12-19T18:56:31.693Z"
   },
   {
    "duration": 11,
    "start_time": "2023-12-19T18:56:31.869Z"
   },
   {
    "duration": 204,
    "start_time": "2023-12-19T18:56:31.881Z"
   },
   {
    "duration": 12,
    "start_time": "2023-12-19T18:56:32.087Z"
   },
   {
    "duration": 523,
    "start_time": "2023-12-19T18:56:32.100Z"
   },
   {
    "duration": 16,
    "start_time": "2023-12-19T18:56:32.625Z"
   },
   {
    "duration": 53,
    "start_time": "2023-12-19T18:58:21.548Z"
   },
   {
    "duration": 9,
    "start_time": "2023-12-19T18:58:24.983Z"
   },
   {
    "duration": 623,
    "start_time": "2023-12-19T18:58:30.942Z"
   },
   {
    "duration": 65,
    "start_time": "2023-12-19T18:58:31.567Z"
   },
   {
    "duration": 52,
    "start_time": "2023-12-19T18:58:31.633Z"
   },
   {
    "duration": 251,
    "start_time": "2023-12-19T18:58:31.687Z"
   },
   {
    "duration": 823,
    "start_time": "2023-12-19T18:58:31.939Z"
   },
   {
    "duration": 6,
    "start_time": "2023-12-19T18:58:32.764Z"
   },
   {
    "duration": 21,
    "start_time": "2023-12-19T18:58:32.771Z"
   },
   {
    "duration": 6,
    "start_time": "2023-12-19T18:58:32.794Z"
   },
   {
    "duration": 15,
    "start_time": "2023-12-19T18:58:32.802Z"
   },
   {
    "duration": 27,
    "start_time": "2023-12-19T18:58:32.820Z"
   },
   {
    "duration": 31,
    "start_time": "2023-12-19T18:58:32.849Z"
   },
   {
    "duration": 30,
    "start_time": "2023-12-19T18:58:32.882Z"
   },
   {
    "duration": 12,
    "start_time": "2023-12-19T18:58:32.914Z"
   },
   {
    "duration": 140,
    "start_time": "2023-12-19T18:58:32.928Z"
   },
   {
    "duration": 11,
    "start_time": "2023-12-19T18:58:33.070Z"
   },
   {
    "duration": 196,
    "start_time": "2023-12-19T18:58:33.082Z"
   },
   {
    "duration": 14,
    "start_time": "2023-12-19T18:58:33.279Z"
   },
   {
    "duration": 489,
    "start_time": "2023-12-19T18:58:33.295Z"
   },
   {
    "duration": 39,
    "start_time": "2023-12-19T18:58:33.785Z"
   },
   {
    "duration": 17,
    "start_time": "2023-12-19T18:58:49.893Z"
   },
   {
    "duration": 43,
    "start_time": "2023-12-19T19:01:12.278Z"
   },
   {
    "duration": 6,
    "start_time": "2023-12-19T19:01:52.427Z"
   },
   {
    "duration": 7,
    "start_time": "2023-12-19T19:02:03.915Z"
   },
   {
    "duration": 598,
    "start_time": "2023-12-19T19:02:19.827Z"
   },
   {
    "duration": 64,
    "start_time": "2023-12-19T19:02:20.427Z"
   },
   {
    "duration": 29,
    "start_time": "2023-12-19T19:02:20.493Z"
   },
   {
    "duration": 245,
    "start_time": "2023-12-19T19:02:20.523Z"
   },
   {
    "duration": 802,
    "start_time": "2023-12-19T19:02:20.770Z"
   },
   {
    "duration": 6,
    "start_time": "2023-12-19T19:02:21.574Z"
   },
   {
    "duration": 18,
    "start_time": "2023-12-19T19:02:21.581Z"
   },
   {
    "duration": 7,
    "start_time": "2023-12-19T19:02:21.601Z"
   },
   {
    "duration": 11,
    "start_time": "2023-12-19T19:02:21.609Z"
   },
   {
    "duration": 11,
    "start_time": "2023-12-19T19:02:21.621Z"
   },
   {
    "duration": 27,
    "start_time": "2023-12-19T19:02:21.634Z"
   },
   {
    "duration": 19,
    "start_time": "2023-12-19T19:02:21.663Z"
   },
   {
    "duration": 19,
    "start_time": "2023-12-19T19:02:21.683Z"
   },
   {
    "duration": 157,
    "start_time": "2023-12-19T19:02:21.704Z"
   },
   {
    "duration": 10,
    "start_time": "2023-12-19T19:02:21.863Z"
   },
   {
    "duration": 182,
    "start_time": "2023-12-19T19:02:21.875Z"
   },
   {
    "duration": 11,
    "start_time": "2023-12-19T19:02:22.059Z"
   },
   {
    "duration": 508,
    "start_time": "2023-12-19T19:02:22.072Z"
   },
   {
    "duration": 14,
    "start_time": "2023-12-19T19:02:22.581Z"
   },
   {
    "duration": 46,
    "start_time": "2023-12-19T19:11:07.387Z"
   },
   {
    "duration": 615,
    "start_time": "2023-12-19T19:11:16.398Z"
   },
   {
    "duration": 65,
    "start_time": "2023-12-19T19:11:17.014Z"
   },
   {
    "duration": 28,
    "start_time": "2023-12-19T19:11:17.080Z"
   },
   {
    "duration": 305,
    "start_time": "2023-12-19T19:11:17.109Z"
   },
   {
    "duration": 750,
    "start_time": "2023-12-19T19:11:17.416Z"
   },
   {
    "duration": 6,
    "start_time": "2023-12-19T19:11:18.168Z"
   },
   {
    "duration": 10,
    "start_time": "2023-12-19T19:11:18.175Z"
   },
   {
    "duration": 6,
    "start_time": "2023-12-19T19:11:18.186Z"
   },
   {
    "duration": 11,
    "start_time": "2023-12-19T19:11:18.193Z"
   },
   {
    "duration": 9,
    "start_time": "2023-12-19T19:11:18.206Z"
   },
   {
    "duration": 36,
    "start_time": "2023-12-19T19:11:18.216Z"
   },
   {
    "duration": 15,
    "start_time": "2023-12-19T19:11:18.254Z"
   },
   {
    "duration": 11,
    "start_time": "2023-12-19T19:11:18.271Z"
   },
   {
    "duration": 190,
    "start_time": "2023-12-19T19:11:18.285Z"
   },
   {
    "duration": 12,
    "start_time": "2023-12-19T19:11:18.476Z"
   },
   {
    "duration": 179,
    "start_time": "2023-12-19T19:11:18.489Z"
   },
   {
    "duration": 11,
    "start_time": "2023-12-19T19:11:18.670Z"
   },
   {
    "duration": 466,
    "start_time": "2023-12-19T19:11:18.682Z"
   },
   {
    "duration": 14,
    "start_time": "2023-12-19T19:11:19.150Z"
   },
   {
    "duration": 588703,
    "start_time": "2023-12-19T19:11:19.165Z"
   },
   {
    "duration": 15,
    "start_time": "2023-12-19T19:21:07.870Z"
   },
   {
    "duration": 1155,
    "start_time": "2023-12-19T19:21:07.886Z"
   },
   {
    "duration": 161,
    "start_time": "2023-12-19T19:45:10.844Z"
   },
   {
    "duration": 133,
    "start_time": "2023-12-19T19:45:24.724Z"
   },
   {
    "duration": 132,
    "start_time": "2023-12-19T19:45:36.451Z"
   },
   {
    "duration": 196,
    "start_time": "2023-12-19T19:45:47.134Z"
   },
   {
    "duration": 16,
    "start_time": "2023-12-19T19:46:23.878Z"
   },
   {
    "duration": 13,
    "start_time": "2023-12-19T19:51:10.797Z"
   },
   {
    "duration": 278949,
    "start_time": "2023-12-19T19:51:10.812Z"
   },
   {
    "duration": 738,
    "start_time": "2023-12-20T13:46:28.213Z"
   },
   {
    "duration": 300,
    "start_time": "2023-12-20T13:46:28.953Z"
   },
   {
    "duration": 27,
    "start_time": "2023-12-20T13:46:29.255Z"
   },
   {
    "duration": 246,
    "start_time": "2023-12-20T13:46:29.284Z"
   },
   {
    "duration": 322,
    "start_time": "2023-12-20T13:46:29.532Z"
   },
   {
    "duration": 5,
    "start_time": "2023-12-20T13:46:29.855Z"
   },
   {
    "duration": 27,
    "start_time": "2023-12-20T13:46:29.862Z"
   },
   {
    "duration": 19,
    "start_time": "2023-12-20T13:46:29.890Z"
   },
   {
    "duration": 10,
    "start_time": "2023-12-20T13:46:29.910Z"
   },
   {
    "duration": 15,
    "start_time": "2023-12-20T13:46:29.922Z"
   },
   {
    "duration": 12,
    "start_time": "2023-12-20T13:46:29.938Z"
   },
   {
    "duration": 10,
    "start_time": "2023-12-20T13:46:29.952Z"
   },
   {
    "duration": 24,
    "start_time": "2023-12-20T13:46:29.963Z"
   },
   {
    "duration": 159,
    "start_time": "2023-12-20T13:46:29.989Z"
   },
   {
    "duration": 12,
    "start_time": "2023-12-20T13:46:30.149Z"
   },
   {
    "duration": 207,
    "start_time": "2023-12-20T13:46:30.163Z"
   },
   {
    "duration": 12,
    "start_time": "2023-12-20T13:46:30.372Z"
   },
   {
    "duration": 565,
    "start_time": "2023-12-20T13:46:30.385Z"
   },
   {
    "duration": 15,
    "start_time": "2023-12-20T13:46:30.951Z"
   },
   {
    "duration": 169,
    "start_time": "2023-12-20T13:46:30.967Z"
   },
   {
    "duration": 16,
    "start_time": "2023-12-20T13:46:31.138Z"
   },
   {
    "duration": 398,
    "start_time": "2023-12-20T13:46:31.156Z"
   },
   {
    "duration": 22,
    "start_time": "2023-12-20T13:46:31.556Z"
   },
   {
    "duration": 34,
    "start_time": "2023-12-20T13:46:31.579Z"
   },
   {
    "duration": 21,
    "start_time": "2023-12-20T13:46:31.615Z"
   },
   {
    "duration": 41,
    "start_time": "2023-12-20T13:46:31.637Z"
   },
   {
    "duration": 37,
    "start_time": "2023-12-20T13:46:31.680Z"
   },
   {
    "duration": 259,
    "start_time": "2023-12-20T13:47:21.556Z"
   },
   {
    "duration": 13,
    "start_time": "2023-12-20T13:47:40.661Z"
   },
   {
    "duration": 17,
    "start_time": "2023-12-20T13:48:05.770Z"
   },
   {
    "duration": 17,
    "start_time": "2023-12-20T13:49:28.825Z"
   },
   {
    "duration": 11,
    "start_time": "2023-12-20T13:51:15.935Z"
   },
   {
    "duration": 4,
    "start_time": "2023-12-20T13:52:42.113Z"
   },
   {
    "duration": 25,
    "start_time": "2023-12-20T13:52:50.926Z"
   },
   {
    "duration": 20,
    "start_time": "2023-12-20T13:54:02.563Z"
   },
   {
    "duration": 19,
    "start_time": "2023-12-20T13:54:13.861Z"
   },
   {
    "duration": 19,
    "start_time": "2023-12-20T13:54:16.371Z"
   },
   {
    "duration": 36,
    "start_time": "2023-12-20T13:54:29.400Z"
   },
   {
    "duration": 25,
    "start_time": "2023-12-20T14:26:03.235Z"
   },
   {
    "duration": 52,
    "start_time": "2023-12-20T14:26:12.288Z"
   },
   {
    "duration": 25,
    "start_time": "2023-12-20T14:26:28.116Z"
   },
   {
    "duration": 53,
    "start_time": "2023-12-20T14:28:02.308Z"
   },
   {
    "duration": 21,
    "start_time": "2023-12-20T14:28:18.279Z"
   },
   {
    "duration": 46,
    "start_time": "2023-12-20T14:28:22.571Z"
   },
   {
    "duration": 660,
    "start_time": "2023-12-20T14:28:30.292Z"
   },
   {
    "duration": 66,
    "start_time": "2023-12-20T14:28:30.954Z"
   },
   {
    "duration": 71,
    "start_time": "2023-12-20T14:28:31.022Z"
   },
   {
    "duration": 278,
    "start_time": "2023-12-20T14:28:31.096Z"
   },
   {
    "duration": 353,
    "start_time": "2023-12-20T14:28:31.376Z"
   },
   {
    "duration": 8,
    "start_time": "2023-12-20T14:28:31.731Z"
   },
   {
    "duration": 27,
    "start_time": "2023-12-20T14:28:31.741Z"
   },
   {
    "duration": 17,
    "start_time": "2023-12-20T14:28:31.769Z"
   },
   {
    "duration": 26,
    "start_time": "2023-12-20T14:28:31.788Z"
   },
   {
    "duration": 58,
    "start_time": "2023-12-20T14:28:31.817Z"
   },
   {
    "duration": 34,
    "start_time": "2023-12-20T14:28:31.877Z"
   },
   {
    "duration": 14,
    "start_time": "2023-12-20T14:28:31.913Z"
   },
   {
    "duration": 22,
    "start_time": "2023-12-20T14:28:31.929Z"
   },
   {
    "duration": 171,
    "start_time": "2023-12-20T14:28:31.953Z"
   },
   {
    "duration": 12,
    "start_time": "2023-12-20T14:28:32.125Z"
   },
   {
    "duration": 182,
    "start_time": "2023-12-20T14:28:32.138Z"
   },
   {
    "duration": 12,
    "start_time": "2023-12-20T14:28:32.321Z"
   },
   {
    "duration": 520,
    "start_time": "2023-12-20T14:28:32.335Z"
   },
   {
    "duration": 15,
    "start_time": "2023-12-20T14:28:32.857Z"
   },
   {
    "duration": 198,
    "start_time": "2023-12-20T14:28:32.874Z"
   },
   {
    "duration": 20,
    "start_time": "2023-12-20T14:28:33.074Z"
   },
   {
    "duration": 389,
    "start_time": "2023-12-20T14:28:33.099Z"
   },
   {
    "duration": 32,
    "start_time": "2023-12-20T14:28:33.490Z"
   },
   {
    "duration": 14,
    "start_time": "2023-12-20T14:28:33.524Z"
   },
   {
    "duration": 8,
    "start_time": "2023-12-20T14:28:33.539Z"
   },
   {
    "duration": 41,
    "start_time": "2023-12-20T14:28:33.549Z"
   },
   {
    "duration": 23,
    "start_time": "2023-12-20T14:28:33.591Z"
   },
   {
    "duration": 19,
    "start_time": "2023-12-20T14:30:45.876Z"
   },
   {
    "duration": 615,
    "start_time": "2023-12-20T14:30:54.405Z"
   },
   {
    "duration": 64,
    "start_time": "2023-12-20T14:30:55.022Z"
   },
   {
    "duration": 27,
    "start_time": "2023-12-20T14:30:55.088Z"
   },
   {
    "duration": 330,
    "start_time": "2023-12-20T14:30:55.116Z"
   },
   {
    "duration": 344,
    "start_time": "2023-12-20T14:30:55.449Z"
   },
   {
    "duration": 7,
    "start_time": "2023-12-20T14:30:55.795Z"
   },
   {
    "duration": 11,
    "start_time": "2023-12-20T14:30:55.803Z"
   },
   {
    "duration": 6,
    "start_time": "2023-12-20T14:30:55.815Z"
   },
   {
    "duration": 11,
    "start_time": "2023-12-20T14:30:55.823Z"
   },
   {
    "duration": 8,
    "start_time": "2023-12-20T14:30:55.836Z"
   },
   {
    "duration": 14,
    "start_time": "2023-12-20T14:30:55.845Z"
   },
   {
    "duration": 40,
    "start_time": "2023-12-20T14:30:55.860Z"
   },
   {
    "duration": 13,
    "start_time": "2023-12-20T14:30:55.901Z"
   },
   {
    "duration": 166,
    "start_time": "2023-12-20T14:30:55.916Z"
   },
   {
    "duration": 22,
    "start_time": "2023-12-20T14:30:56.083Z"
   },
   {
    "duration": 172,
    "start_time": "2023-12-20T14:30:56.106Z"
   },
   {
    "duration": 20,
    "start_time": "2023-12-20T14:30:56.279Z"
   },
   {
    "duration": 469,
    "start_time": "2023-12-20T14:30:56.300Z"
   },
   {
    "duration": 16,
    "start_time": "2023-12-20T14:30:56.771Z"
   },
   {
    "duration": 153,
    "start_time": "2023-12-20T14:30:56.788Z"
   },
   {
    "duration": 16,
    "start_time": "2023-12-20T14:30:56.942Z"
   },
   {
    "duration": 352,
    "start_time": "2023-12-20T14:30:56.960Z"
   },
   {
    "duration": 23,
    "start_time": "2023-12-20T14:30:57.314Z"
   },
   {
    "duration": 11,
    "start_time": "2023-12-20T14:30:57.339Z"
   },
   {
    "duration": 9,
    "start_time": "2023-12-20T14:30:57.352Z"
   },
   {
    "duration": 37,
    "start_time": "2023-12-20T14:30:57.362Z"
   },
   {
    "duration": 17,
    "start_time": "2023-12-20T14:30:57.401Z"
   },
   {
    "duration": 6,
    "start_time": "2023-12-20T14:31:54.800Z"
   },
   {
    "duration": 13,
    "start_time": "2023-12-20T14:33:42.232Z"
   },
   {
    "duration": 9,
    "start_time": "2023-12-20T14:44:03.735Z"
   },
   {
    "duration": 4,
    "start_time": "2023-12-20T14:46:22.700Z"
   },
   {
    "duration": 64,
    "start_time": "2023-12-20T14:46:33.547Z"
   },
   {
    "duration": 7,
    "start_time": "2023-12-20T14:46:38.119Z"
   },
   {
    "duration": 7,
    "start_time": "2023-12-20T14:47:11.332Z"
   },
   {
    "duration": 5,
    "start_time": "2023-12-20T14:48:30.277Z"
   },
   {
    "duration": 5,
    "start_time": "2023-12-20T14:48:36.178Z"
   },
   {
    "duration": 4,
    "start_time": "2023-12-20T14:48:41.528Z"
   },
   {
    "duration": 17,
    "start_time": "2023-12-20T14:52:55.331Z"
   },
   {
    "duration": 10,
    "start_time": "2023-12-20T14:53:40.736Z"
   },
   {
    "duration": 9,
    "start_time": "2023-12-20T14:54:52.163Z"
   },
   {
    "duration": 8,
    "start_time": "2023-12-20T14:55:04.683Z"
   },
   {
    "duration": 11,
    "start_time": "2023-12-20T14:55:51.634Z"
   },
   {
    "duration": 12,
    "start_time": "2023-12-20T14:56:24.939Z"
   },
   {
    "duration": 12,
    "start_time": "2023-12-20T14:56:30.602Z"
   },
   {
    "duration": 727,
    "start_time": "2023-12-20T14:57:04.008Z"
   },
   {
    "duration": 12,
    "start_time": "2023-12-20T14:57:15.937Z"
   },
   {
    "duration": 16,
    "start_time": "2023-12-20T14:57:51.234Z"
   },
   {
    "duration": 13,
    "start_time": "2023-12-20T14:58:26.304Z"
   },
   {
    "duration": 14,
    "start_time": "2023-12-20T14:58:40.869Z"
   },
   {
    "duration": 12,
    "start_time": "2023-12-20T14:59:51.738Z"
   },
   {
    "duration": 13,
    "start_time": "2023-12-20T15:00:28.755Z"
   },
   {
    "duration": 14,
    "start_time": "2023-12-20T15:00:46.140Z"
   },
   {
    "duration": 76,
    "start_time": "2023-12-20T15:01:27.802Z"
   },
   {
    "duration": 64,
    "start_time": "2023-12-20T15:01:49.607Z"
   },
   {
    "duration": 726,
    "start_time": "2023-12-20T15:01:54.651Z"
   },
   {
    "duration": 12,
    "start_time": "2023-12-20T15:02:06.788Z"
   },
   {
    "duration": 44,
    "start_time": "2023-12-20T15:02:41.817Z"
   },
   {
    "duration": 11,
    "start_time": "2023-12-20T15:02:55.562Z"
   },
   {
    "duration": 6,
    "start_time": "2023-12-20T15:03:09.211Z"
   },
   {
    "duration": 11,
    "start_time": "2023-12-20T15:03:18.254Z"
   },
   {
    "duration": 11,
    "start_time": "2023-12-20T15:03:35.373Z"
   },
   {
    "duration": 21,
    "start_time": "2023-12-20T15:54:58.428Z"
   },
   {
    "duration": 5,
    "start_time": "2023-12-20T15:55:45.556Z"
   },
   {
    "duration": 701,
    "start_time": "2023-12-20T15:55:53.883Z"
   },
   {
    "duration": 20,
    "start_time": "2023-12-20T15:56:27.397Z"
   },
   {
    "duration": 20,
    "start_time": "2023-12-20T16:01:08.873Z"
   },
   {
    "duration": 15,
    "start_time": "2023-12-20T16:02:05.019Z"
   },
   {
    "duration": 3,
    "start_time": "2023-12-20T16:07:54.109Z"
   },
   {
    "duration": 2,
    "start_time": "2023-12-20T16:07:56.358Z"
   },
   {
    "duration": 2,
    "start_time": "2023-12-20T16:09:10.153Z"
   },
   {
    "duration": 18,
    "start_time": "2023-12-20T16:11:18.856Z"
   },
   {
    "duration": 27,
    "start_time": "2023-12-20T16:13:05.506Z"
   },
   {
    "duration": 11,
    "start_time": "2023-12-20T16:13:20.008Z"
   },
   {
    "duration": 9,
    "start_time": "2023-12-20T16:13:42.000Z"
   },
   {
    "duration": 14,
    "start_time": "2023-12-20T16:24:06.572Z"
   },
   {
    "duration": 488,
    "start_time": "2023-12-20T16:24:12.890Z"
   },
   {
    "duration": 67,
    "start_time": "2023-12-20T16:24:13.380Z"
   },
   {
    "duration": 27,
    "start_time": "2023-12-20T16:24:13.448Z"
   },
   {
    "duration": 641,
    "start_time": "2023-12-20T16:24:13.476Z"
   },
   {
    "duration": 703,
    "start_time": "2023-12-20T16:24:14.119Z"
   },
   {
    "duration": 74,
    "start_time": "2023-12-20T16:24:14.825Z"
   },
   {
    "duration": 12,
    "start_time": "2023-12-20T16:24:14.901Z"
   },
   {
    "duration": 6,
    "start_time": "2023-12-20T16:24:14.915Z"
   },
   {
    "duration": 21,
    "start_time": "2023-12-20T16:24:14.923Z"
   },
   {
    "duration": 14,
    "start_time": "2023-12-20T16:24:14.946Z"
   },
   {
    "duration": 29,
    "start_time": "2023-12-20T16:24:14.961Z"
   },
   {
    "duration": 16,
    "start_time": "2023-12-20T16:24:14.992Z"
   },
   {
    "duration": 41,
    "start_time": "2023-12-20T16:24:15.011Z"
   },
   {
    "duration": 215,
    "start_time": "2023-12-20T16:24:15.056Z"
   },
   {
    "duration": 12,
    "start_time": "2023-12-20T16:24:15.272Z"
   },
   {
    "duration": 172,
    "start_time": "2023-12-20T16:24:15.285Z"
   },
   {
    "duration": 12,
    "start_time": "2023-12-20T16:24:15.459Z"
   },
   {
    "duration": 574,
    "start_time": "2023-12-20T16:24:15.472Z"
   },
   {
    "duration": 14,
    "start_time": "2023-12-20T16:24:16.047Z"
   },
   {
    "duration": 231,
    "start_time": "2023-12-20T16:24:16.062Z"
   },
   {
    "duration": 17,
    "start_time": "2023-12-20T16:24:16.295Z"
   },
   {
    "duration": 375,
    "start_time": "2023-12-20T16:24:16.313Z"
   },
   {
    "duration": 24,
    "start_time": "2023-12-20T16:24:16.690Z"
   },
   {
    "duration": 17,
    "start_time": "2023-12-20T16:24:16.715Z"
   },
   {
    "duration": 39,
    "start_time": "2023-12-20T16:24:16.733Z"
   },
   {
    "duration": 38,
    "start_time": "2023-12-20T16:24:16.773Z"
   },
   {
    "duration": 20,
    "start_time": "2023-12-20T16:24:16.812Z"
   },
   {
    "duration": 37,
    "start_time": "2023-12-20T16:24:16.833Z"
   },
   {
    "duration": 17,
    "start_time": "2023-12-20T16:24:16.872Z"
   },
   {
    "duration": 10,
    "start_time": "2023-12-20T16:24:36.243Z"
   },
   {
    "duration": 11,
    "start_time": "2023-12-20T16:26:16.810Z"
   },
   {
    "duration": 11,
    "start_time": "2023-12-20T16:29:36.994Z"
   },
   {
    "duration": 10,
    "start_time": "2023-12-20T16:29:40.614Z"
   },
   {
    "duration": 44,
    "start_time": "2023-12-20T16:31:59.322Z"
   },
   {
    "duration": 10,
    "start_time": "2023-12-20T16:32:09.877Z"
   },
   {
    "duration": 6,
    "start_time": "2023-12-20T16:32:14.595Z"
   },
   {
    "duration": 11,
    "start_time": "2023-12-20T16:32:42.364Z"
   },
   {
    "duration": 9,
    "start_time": "2023-12-20T16:34:10.316Z"
   },
   {
    "duration": 19,
    "start_time": "2023-12-20T16:34:16.376Z"
   },
   {
    "duration": 11,
    "start_time": "2023-12-20T16:36:29.884Z"
   },
   {
    "duration": 46,
    "start_time": "2023-12-20T16:38:20.752Z"
   },
   {
    "duration": 4,
    "start_time": "2023-12-20T16:39:56.544Z"
   },
   {
    "duration": 2,
    "start_time": "2023-12-20T16:41:28.437Z"
   },
   {
    "duration": 4,
    "start_time": "2023-12-20T16:43:48.585Z"
   },
   {
    "duration": 7,
    "start_time": "2023-12-20T16:44:06.136Z"
   },
   {
    "duration": 4,
    "start_time": "2023-12-20T16:44:19.344Z"
   },
   {
    "duration": 19,
    "start_time": "2023-12-20T17:19:29.887Z"
   },
   {
    "duration": 16,
    "start_time": "2023-12-20T17:20:41.577Z"
   },
   {
    "duration": 19,
    "start_time": "2023-12-20T17:20:49.488Z"
   },
   {
    "duration": 5,
    "start_time": "2023-12-20T17:23:16.126Z"
   },
   {
    "duration": 4,
    "start_time": "2023-12-20T17:24:24.746Z"
   },
   {
    "duration": 5,
    "start_time": "2023-12-20T17:24:32.505Z"
   },
   {
    "duration": 13,
    "start_time": "2023-12-20T21:50:37.430Z"
   },
   {
    "duration": 3,
    "start_time": "2023-12-20T21:51:09.891Z"
   },
   {
    "duration": 5,
    "start_time": "2023-12-20T21:51:27.949Z"
   },
   {
    "duration": 704,
    "start_time": "2023-12-20T22:05:02.814Z"
   },
   {
    "duration": 1060,
    "start_time": "2023-12-20T22:05:09.065Z"
   },
   {
    "duration": 1140,
    "start_time": "2023-12-20T22:05:13.491Z"
   },
   {
    "duration": 493,
    "start_time": "2023-12-20T22:05:20.176Z"
   },
   {
    "duration": 237,
    "start_time": "2023-12-20T22:05:24.731Z"
   },
   {
    "duration": 1045,
    "start_time": "2023-12-20T22:05:39.934Z"
   },
   {
    "duration": 70,
    "start_time": "2023-12-20T22:05:40.981Z"
   },
   {
    "duration": 28,
    "start_time": "2023-12-20T22:05:41.053Z"
   },
   {
    "duration": 256,
    "start_time": "2023-12-20T22:05:41.082Z"
   },
   {
    "duration": 320,
    "start_time": "2023-12-20T22:05:41.340Z"
   },
   {
    "duration": 7,
    "start_time": "2023-12-20T22:05:41.661Z"
   },
   {
    "duration": 10,
    "start_time": "2023-12-20T22:05:41.669Z"
   },
   {
    "duration": 21,
    "start_time": "2023-12-20T22:05:41.681Z"
   },
   {
    "duration": 8,
    "start_time": "2023-12-20T22:05:41.704Z"
   },
   {
    "duration": 8,
    "start_time": "2023-12-20T22:05:41.714Z"
   },
   {
    "duration": 16,
    "start_time": "2023-12-20T22:05:41.724Z"
   },
   {
    "duration": 14,
    "start_time": "2023-12-20T22:05:41.742Z"
   },
   {
    "duration": 54,
    "start_time": "2023-12-20T22:05:41.758Z"
   },
   {
    "duration": 151,
    "start_time": "2023-12-20T22:05:41.816Z"
   },
   {
    "duration": 11,
    "start_time": "2023-12-20T22:05:41.969Z"
   },
   {
    "duration": 126,
    "start_time": "2023-12-20T22:05:41.982Z"
   },
   {
    "duration": 11,
    "start_time": "2023-12-20T22:05:42.110Z"
   },
   {
    "duration": 447,
    "start_time": "2023-12-20T22:05:42.123Z"
   },
   {
    "duration": 14,
    "start_time": "2023-12-20T22:05:42.572Z"
   },
   {
    "duration": 146,
    "start_time": "2023-12-20T22:05:42.587Z"
   },
   {
    "duration": 16,
    "start_time": "2023-12-20T22:05:42.734Z"
   },
   {
    "duration": 420,
    "start_time": "2023-12-20T22:05:42.751Z"
   },
   {
    "duration": 28,
    "start_time": "2023-12-20T22:05:43.173Z"
   },
   {
    "duration": 11,
    "start_time": "2023-12-20T22:05:43.202Z"
   },
   {
    "duration": 3,
    "start_time": "2023-12-20T22:05:43.214Z"
   },
   {
    "duration": 17,
    "start_time": "2023-12-20T22:05:43.218Z"
   },
   {
    "duration": 15,
    "start_time": "2023-12-20T22:05:43.237Z"
   },
   {
    "duration": 15,
    "start_time": "2023-12-20T22:05:43.253Z"
   },
   {
    "duration": 39,
    "start_time": "2023-12-20T22:05:43.269Z"
   },
   {
    "duration": 6,
    "start_time": "2023-12-20T22:05:43.310Z"
   },
   {
    "duration": 4,
    "start_time": "2023-12-20T22:05:43.318Z"
   },
   {
    "duration": 4,
    "start_time": "2023-12-20T22:05:43.324Z"
   },
   {
    "duration": 44,
    "start_time": "2023-12-20T22:20:46.414Z"
   },
   {
    "duration": 17,
    "start_time": "2023-12-20T22:26:15.691Z"
   },
   {
    "duration": 16,
    "start_time": "2023-12-20T22:28:44.368Z"
   },
   {
    "duration": 23,
    "start_time": "2023-12-20T22:28:48.382Z"
   },
   {
    "duration": 8,
    "start_time": "2023-12-20T22:29:34.208Z"
   },
   {
    "duration": 5,
    "start_time": "2023-12-20T22:29:35.948Z"
   },
   {
    "duration": 7,
    "start_time": "2023-12-20T22:29:43.107Z"
   },
   {
    "duration": 5,
    "start_time": "2023-12-20T22:29:45.189Z"
   },
   {
    "duration": 46,
    "start_time": "2023-12-20T22:31:11.029Z"
   },
   {
    "duration": 41,
    "start_time": "2023-12-20T22:34:32.066Z"
   },
   {
    "duration": 47,
    "start_time": "2023-12-20T22:36:20.498Z"
   },
   {
    "duration": 106,
    "start_time": "2023-12-20T22:45:18.113Z"
   },
   {
    "duration": 12,
    "start_time": "2023-12-20T22:45:24.240Z"
   },
   {
    "duration": 15,
    "start_time": "2023-12-20T22:45:28.845Z"
   },
   {
    "duration": 52,
    "start_time": "2023-12-20T22:55:17.003Z"
   },
   {
    "duration": 23,
    "start_time": "2023-12-20T22:57:16.589Z"
   },
   {
    "duration": 19,
    "start_time": "2023-12-20T22:57:46.116Z"
   },
   {
    "duration": 12,
    "start_time": "2023-12-20T22:57:55.658Z"
   },
   {
    "duration": 21,
    "start_time": "2023-12-20T22:58:21.081Z"
   },
   {
    "duration": 26,
    "start_time": "2023-12-20T22:58:59.529Z"
   },
   {
    "duration": 27,
    "start_time": "2023-12-20T22:59:06.213Z"
   },
   {
    "duration": 1229,
    "start_time": "2023-12-21T10:02:46.806Z"
   },
   {
    "duration": 70,
    "start_time": "2023-12-21T10:02:48.046Z"
   },
   {
    "duration": 40,
    "start_time": "2023-12-21T10:02:48.118Z"
   },
   {
    "duration": 373,
    "start_time": "2023-12-21T10:02:48.160Z"
   },
   {
    "duration": 408,
    "start_time": "2023-12-21T10:02:48.536Z"
   },
   {
    "duration": 7,
    "start_time": "2023-12-21T10:02:48.946Z"
   },
   {
    "duration": 11,
    "start_time": "2023-12-21T10:02:48.954Z"
   },
   {
    "duration": 9,
    "start_time": "2023-12-21T10:02:48.966Z"
   },
   {
    "duration": 13,
    "start_time": "2023-12-21T10:02:48.977Z"
   },
   {
    "duration": 11,
    "start_time": "2023-12-21T10:02:48.992Z"
   },
   {
    "duration": 33,
    "start_time": "2023-12-21T10:02:49.005Z"
   },
   {
    "duration": 13,
    "start_time": "2023-12-21T10:02:49.046Z"
   },
   {
    "duration": 58,
    "start_time": "2023-12-21T10:02:49.061Z"
   },
   {
    "duration": 184,
    "start_time": "2023-12-21T10:02:49.123Z"
   },
   {
    "duration": 32,
    "start_time": "2023-12-21T10:02:49.310Z"
   },
   {
    "duration": 158,
    "start_time": "2023-12-21T10:02:49.344Z"
   },
   {
    "duration": 42,
    "start_time": "2023-12-21T10:02:49.504Z"
   },
   {
    "duration": 592,
    "start_time": "2023-12-21T10:02:49.548Z"
   },
   {
    "duration": 30,
    "start_time": "2023-12-21T10:02:50.143Z"
   },
   {
    "duration": 189,
    "start_time": "2023-12-21T10:02:50.176Z"
   },
   {
    "duration": 32,
    "start_time": "2023-12-21T10:02:50.367Z"
   },
   {
    "duration": 568,
    "start_time": "2023-12-21T10:02:50.401Z"
   },
   {
    "duration": 26,
    "start_time": "2023-12-21T10:02:50.971Z"
   },
   {
    "duration": 13,
    "start_time": "2023-12-21T10:02:50.998Z"
   },
   {
    "duration": 12,
    "start_time": "2023-12-21T10:02:51.031Z"
   },
   {
    "duration": 37,
    "start_time": "2023-12-21T10:02:51.045Z"
   },
   {
    "duration": 21,
    "start_time": "2023-12-21T10:02:51.084Z"
   },
   {
    "duration": 39,
    "start_time": "2023-12-21T10:02:51.108Z"
   },
   {
    "duration": 26,
    "start_time": "2023-12-21T10:02:51.149Z"
   },
   {
    "duration": 17,
    "start_time": "2023-12-21T10:02:51.177Z"
   },
   {
    "duration": 65,
    "start_time": "2023-12-21T10:02:51.196Z"
   },
   {
    "duration": 27,
    "start_time": "2023-12-21T10:02:51.263Z"
   },
   {
    "duration": 51,
    "start_time": "2023-12-21T10:26:48.036Z"
   },
   {
    "duration": 1331,
    "start_time": "2023-12-21T10:26:53.943Z"
   },
   {
    "duration": 199,
    "start_time": "2023-12-21T10:26:55.276Z"
   },
   {
    "duration": 33,
    "start_time": "2023-12-21T10:26:55.477Z"
   },
   {
    "duration": 292,
    "start_time": "2023-12-21T10:26:55.512Z"
   },
   {
    "duration": 367,
    "start_time": "2023-12-21T10:26:55.806Z"
   },
   {
    "duration": 5,
    "start_time": "2023-12-21T10:26:56.175Z"
   },
   {
    "duration": 35,
    "start_time": "2023-12-21T10:26:56.182Z"
   },
   {
    "duration": 72,
    "start_time": "2023-12-21T10:26:56.218Z"
   },
   {
    "duration": 42,
    "start_time": "2023-12-21T10:26:56.292Z"
   },
   {
    "duration": 35,
    "start_time": "2023-12-21T10:26:56.336Z"
   },
   {
    "duration": 33,
    "start_time": "2023-12-21T10:26:56.372Z"
   },
   {
    "duration": 43,
    "start_time": "2023-12-21T10:26:56.407Z"
   },
   {
    "duration": 37,
    "start_time": "2023-12-21T10:26:56.452Z"
   },
   {
    "duration": 177,
    "start_time": "2023-12-21T10:26:56.492Z"
   },
   {
    "duration": 12,
    "start_time": "2023-12-21T10:26:56.670Z"
   },
   {
    "duration": 175,
    "start_time": "2023-12-21T10:26:56.688Z"
   },
   {
    "duration": 121,
    "start_time": "2023-12-21T10:27:44.463Z"
   },
   {
    "duration": 6,
    "start_time": "2023-12-21T10:28:03.915Z"
   },
   {
    "duration": 9,
    "start_time": "2023-12-21T10:46:29.977Z"
   },
   {
    "duration": 3,
    "start_time": "2023-12-21T10:46:40.509Z"
   },
   {
    "duration": 85,
    "start_time": "2023-12-21T10:46:40.514Z"
   },
   {
    "duration": 37,
    "start_time": "2023-12-21T10:46:40.601Z"
   },
   {
    "duration": 328,
    "start_time": "2023-12-21T10:46:40.639Z"
   },
   {
    "duration": 460,
    "start_time": "2023-12-21T10:46:40.969Z"
   },
   {
    "duration": 7,
    "start_time": "2023-12-21T10:46:41.431Z"
   },
   {
    "duration": 69,
    "start_time": "2023-12-21T10:46:41.441Z"
   },
   {
    "duration": 11,
    "start_time": "2023-12-21T10:46:41.512Z"
   },
   {
    "duration": 6,
    "start_time": "2023-12-21T10:46:41.525Z"
   },
   {
    "duration": 29,
    "start_time": "2023-12-21T10:46:41.532Z"
   },
   {
    "duration": 24,
    "start_time": "2023-12-21T10:46:41.563Z"
   },
   {
    "duration": 12,
    "start_time": "2023-12-21T10:46:41.589Z"
   },
   {
    "duration": 23,
    "start_time": "2023-12-21T10:46:41.603Z"
   },
   {
    "duration": 206,
    "start_time": "2023-12-21T10:46:41.629Z"
   },
   {
    "duration": 12,
    "start_time": "2023-12-21T10:46:41.836Z"
   },
   {
    "duration": 160,
    "start_time": "2023-12-21T10:46:41.850Z"
   },
   {
    "duration": 27,
    "start_time": "2023-12-21T10:46:42.012Z"
   },
   {
    "duration": 567,
    "start_time": "2023-12-21T10:46:42.041Z"
   },
   {
    "duration": 28,
    "start_time": "2023-12-21T10:46:42.609Z"
   },
   {
    "duration": 198,
    "start_time": "2023-12-21T10:46:42.638Z"
   },
   {
    "duration": 28,
    "start_time": "2023-12-21T10:46:42.838Z"
   },
   {
    "duration": 7,
    "start_time": "2023-12-21T10:46:42.868Z"
   },
   {
    "duration": 414,
    "start_time": "2023-12-21T10:46:42.877Z"
   },
   {
    "duration": 26,
    "start_time": "2023-12-21T10:46:43.293Z"
   },
   {
    "duration": 12,
    "start_time": "2023-12-21T10:46:43.321Z"
   },
   {
    "duration": 4,
    "start_time": "2023-12-21T10:46:43.334Z"
   },
   {
    "duration": 53,
    "start_time": "2023-12-21T10:46:43.339Z"
   },
   {
    "duration": 17,
    "start_time": "2023-12-21T10:46:43.394Z"
   },
   {
    "duration": 19,
    "start_time": "2023-12-21T10:46:43.413Z"
   },
   {
    "duration": 15,
    "start_time": "2023-12-21T10:46:43.434Z"
   },
   {
    "duration": 48,
    "start_time": "2023-12-21T10:46:43.451Z"
   },
   {
    "duration": 33,
    "start_time": "2023-12-21T10:46:43.500Z"
   },
   {
    "duration": 8,
    "start_time": "2023-12-21T10:46:43.535Z"
   },
   {
    "duration": 10,
    "start_time": "2023-12-21T10:48:30.571Z"
   },
   {
    "duration": 15,
    "start_time": "2023-12-21T10:50:05.191Z"
   },
   {
    "duration": 6,
    "start_time": "2023-12-21T10:57:44.985Z"
   },
   {
    "duration": 18,
    "start_time": "2023-12-21T10:57:50.363Z"
   },
   {
    "duration": 15,
    "start_time": "2023-12-21T10:58:59.659Z"
   },
   {
    "duration": 11,
    "start_time": "2023-12-21T11:00:38.962Z"
   },
   {
    "duration": 265,
    "start_time": "2023-12-21T11:01:23.918Z"
   },
   {
    "duration": 347,
    "start_time": "2023-12-21T11:01:31.013Z"
   },
   {
    "duration": 248,
    "start_time": "2023-12-21T11:01:40.918Z"
   },
   {
    "duration": 223,
    "start_time": "2023-12-21T11:01:46.766Z"
   },
   {
    "duration": 226,
    "start_time": "2023-12-21T11:01:52.451Z"
   },
   {
    "duration": 257,
    "start_time": "2023-12-21T11:02:18.615Z"
   },
   {
    "duration": 27,
    "start_time": "2023-12-21T11:03:05.505Z"
   },
   {
    "duration": 5,
    "start_time": "2023-12-21T11:05:04.657Z"
   },
   {
    "duration": 6,
    "start_time": "2023-12-21T11:05:13.618Z"
   },
   {
    "duration": 18,
    "start_time": "2023-12-21T11:06:22.468Z"
   },
   {
    "duration": 5,
    "start_time": "2023-12-21T11:06:38.776Z"
   },
   {
    "duration": 5,
    "start_time": "2023-12-21T11:10:56.244Z"
   },
   {
    "duration": 1311,
    "start_time": "2024-01-22T19:47:41.025Z"
   },
   {
    "duration": 291,
    "start_time": "2024-01-22T19:47:42.339Z"
   },
   {
    "duration": 33,
    "start_time": "2024-01-22T19:47:42.631Z"
   },
   {
    "duration": 314,
    "start_time": "2024-01-22T19:47:42.666Z"
   },
   {
    "duration": 386,
    "start_time": "2024-01-22T19:47:42.982Z"
   },
   {
    "duration": 12,
    "start_time": "2024-01-22T19:47:43.369Z"
   },
   {
    "duration": 10,
    "start_time": "2024-01-22T19:47:43.383Z"
   },
   {
    "duration": 5,
    "start_time": "2024-01-22T19:47:43.395Z"
   },
   {
    "duration": 6,
    "start_time": "2024-01-22T19:47:43.401Z"
   },
   {
    "duration": 15,
    "start_time": "2024-01-22T19:47:43.409Z"
   },
   {
    "duration": 14,
    "start_time": "2024-01-22T19:47:43.425Z"
   },
   {
    "duration": 11,
    "start_time": "2024-01-22T19:47:43.441Z"
   },
   {
    "duration": 22,
    "start_time": "2024-01-22T19:47:43.480Z"
   },
   {
    "duration": 178,
    "start_time": "2024-01-22T19:47:43.504Z"
   },
   {
    "duration": 12,
    "start_time": "2024-01-22T19:47:43.684Z"
   },
   {
    "duration": 143,
    "start_time": "2024-01-22T19:47:43.698Z"
   },
   {
    "duration": 22,
    "start_time": "2024-01-22T19:47:43.842Z"
   },
   {
    "duration": 540,
    "start_time": "2024-01-22T19:47:43.880Z"
   },
   {
    "duration": 28,
    "start_time": "2024-01-22T19:47:44.422Z"
   },
   {
    "duration": 182,
    "start_time": "2024-01-22T19:47:44.451Z"
   },
   {
    "duration": 29,
    "start_time": "2024-01-22T19:47:44.635Z"
   },
   {
    "duration": 14,
    "start_time": "2024-01-22T19:47:44.680Z"
   },
   {
    "duration": 45,
    "start_time": "2024-01-22T19:47:44.695Z"
   },
   {
    "duration": 284,
    "start_time": "2024-01-22T19:47:44.741Z"
   },
   {
    "duration": 28,
    "start_time": "2024-01-22T19:47:45.027Z"
   },
   {
    "duration": 47,
    "start_time": "2024-01-22T19:47:45.057Z"
   },
   {
    "duration": 20,
    "start_time": "2024-01-22T19:47:45.106Z"
   },
   {
    "duration": 46,
    "start_time": "2024-01-22T19:47:45.128Z"
   },
   {
    "duration": 18,
    "start_time": "2024-01-22T19:47:45.176Z"
   },
   {
    "duration": 40,
    "start_time": "2024-01-22T19:47:45.195Z"
   },
   {
    "duration": 23,
    "start_time": "2024-01-22T19:47:45.237Z"
   },
   {
    "duration": 7,
    "start_time": "2024-01-22T19:47:45.261Z"
   },
   {
    "duration": 10,
    "start_time": "2024-01-22T19:47:45.270Z"
   },
   {
    "duration": 5,
    "start_time": "2024-01-22T19:47:45.282Z"
   },
   {
    "duration": 77,
    "start_time": "2024-01-22T20:03:29.170Z"
   },
   {
    "duration": 4,
    "start_time": "2024-01-22T20:03:44.824Z"
   },
   {
    "duration": 4,
    "start_time": "2024-01-22T20:03:59.029Z"
   },
   {
    "duration": 4,
    "start_time": "2024-01-22T20:04:25.034Z"
   },
   {
    "duration": 96,
    "start_time": "2024-01-22T20:04:47.383Z"
   },
   {
    "duration": 10,
    "start_time": "2024-01-22T20:05:39.707Z"
   },
   {
    "duration": 23,
    "start_time": "2024-01-22T20:06:14.460Z"
   },
   {
    "duration": 24,
    "start_time": "2024-01-22T20:08:31.847Z"
   },
   {
    "duration": 1188,
    "start_time": "2024-01-22T20:12:14.750Z"
   },
   {
    "duration": 70,
    "start_time": "2024-01-22T20:12:15.939Z"
   },
   {
    "duration": 32,
    "start_time": "2024-01-22T20:12:16.011Z"
   },
   {
    "duration": 294,
    "start_time": "2024-01-22T20:12:16.045Z"
   },
   {
    "duration": 403,
    "start_time": "2024-01-22T20:12:16.341Z"
   },
   {
    "duration": 5,
    "start_time": "2024-01-22T20:12:16.746Z"
   },
   {
    "duration": 14,
    "start_time": "2024-01-22T20:12:16.753Z"
   },
   {
    "duration": 15,
    "start_time": "2024-01-22T20:12:16.768Z"
   },
   {
    "duration": 13,
    "start_time": "2024-01-22T20:12:16.785Z"
   },
   {
    "duration": 13,
    "start_time": "2024-01-22T20:12:16.799Z"
   },
   {
    "duration": 19,
    "start_time": "2024-01-22T20:12:16.814Z"
   },
   {
    "duration": 14,
    "start_time": "2024-01-22T20:12:16.834Z"
   },
   {
    "duration": 38,
    "start_time": "2024-01-22T20:12:16.849Z"
   },
   {
    "duration": 172,
    "start_time": "2024-01-22T20:12:16.890Z"
   },
   {
    "duration": 20,
    "start_time": "2024-01-22T20:12:17.064Z"
   },
   {
    "duration": 139,
    "start_time": "2024-01-22T20:12:17.086Z"
   },
   {
    "duration": 24,
    "start_time": "2024-01-22T20:12:17.227Z"
   },
   {
    "duration": 577,
    "start_time": "2024-01-22T20:12:17.253Z"
   },
   {
    "duration": 32,
    "start_time": "2024-01-22T20:12:17.832Z"
   },
   {
    "duration": 165,
    "start_time": "2024-01-22T20:12:17.880Z"
   },
   {
    "duration": 40,
    "start_time": "2024-01-22T20:12:18.047Z"
   },
   {
    "duration": 14,
    "start_time": "2024-01-22T20:12:18.089Z"
   },
   {
    "duration": 9,
    "start_time": "2024-01-22T20:12:18.104Z"
   },
   {
    "duration": 313,
    "start_time": "2024-01-22T20:12:18.115Z"
   },
   {
    "duration": 29,
    "start_time": "2024-01-22T20:12:18.429Z"
   },
   {
    "duration": 29,
    "start_time": "2024-01-22T20:12:18.460Z"
   },
   {
    "duration": 4,
    "start_time": "2024-01-22T20:12:18.491Z"
   },
   {
    "duration": 20,
    "start_time": "2024-01-22T20:12:18.496Z"
   },
   {
    "duration": 19,
    "start_time": "2024-01-22T20:12:18.518Z"
   },
   {
    "duration": 43,
    "start_time": "2024-01-22T20:12:18.539Z"
   },
   {
    "duration": 19,
    "start_time": "2024-01-22T20:12:18.583Z"
   },
   {
    "duration": 5,
    "start_time": "2024-01-22T20:12:18.604Z"
   },
   {
    "duration": 6,
    "start_time": "2024-01-22T20:12:18.610Z"
   },
   {
    "duration": 6,
    "start_time": "2024-01-22T20:12:18.617Z"
   },
   {
    "duration": 686,
    "start_time": "2024-01-22T20:24:04.987Z"
   },
   {
    "duration": 8,
    "start_time": "2024-01-22T20:24:23.243Z"
   },
   {
    "duration": 1146,
    "start_time": "2024-01-22T20:28:18.726Z"
   },
   {
    "duration": 77,
    "start_time": "2024-01-22T20:28:19.874Z"
   },
   {
    "duration": 33,
    "start_time": "2024-01-22T20:28:19.953Z"
   },
   {
    "duration": 346,
    "start_time": "2024-01-22T20:28:19.988Z"
   },
   {
    "duration": 398,
    "start_time": "2024-01-22T20:28:20.337Z"
   },
   {
    "duration": 6,
    "start_time": "2024-01-22T20:28:20.738Z"
   },
   {
    "duration": 26,
    "start_time": "2024-01-22T20:28:20.746Z"
   },
   {
    "duration": 88,
    "start_time": "2024-01-22T20:28:20.774Z"
   },
   {
    "duration": 73,
    "start_time": "2024-01-22T20:28:20.863Z"
   },
   {
    "duration": 35,
    "start_time": "2024-01-22T20:28:20.938Z"
   },
   {
    "duration": 58,
    "start_time": "2024-01-22T20:28:20.974Z"
   },
   {
    "duration": 38,
    "start_time": "2024-01-22T20:28:21.033Z"
   },
   {
    "duration": 40,
    "start_time": "2024-01-22T20:28:21.072Z"
   },
   {
    "duration": 187,
    "start_time": "2024-01-22T20:28:21.115Z"
   },
   {
    "duration": 14,
    "start_time": "2024-01-22T20:28:21.303Z"
   },
   {
    "duration": 161,
    "start_time": "2024-01-22T20:28:21.318Z"
   },
   {
    "duration": 23,
    "start_time": "2024-01-22T20:28:21.481Z"
   },
   {
    "duration": 554,
    "start_time": "2024-01-22T20:28:21.505Z"
   },
   {
    "duration": 33,
    "start_time": "2024-01-22T20:28:22.060Z"
   },
   {
    "duration": 191,
    "start_time": "2024-01-22T20:28:22.095Z"
   },
   {
    "duration": 29,
    "start_time": "2024-01-22T20:28:22.288Z"
   },
   {
    "duration": 14,
    "start_time": "2024-01-22T20:28:22.319Z"
   },
   {
    "duration": 13,
    "start_time": "2024-01-22T20:28:22.335Z"
   },
   {
    "duration": 352,
    "start_time": "2024-01-22T20:28:22.350Z"
   },
   {
    "duration": 28,
    "start_time": "2024-01-22T20:28:22.703Z"
   },
   {
    "duration": 12,
    "start_time": "2024-01-22T20:28:22.733Z"
   },
   {
    "duration": 4,
    "start_time": "2024-01-22T20:28:22.746Z"
   },
   {
    "duration": 44,
    "start_time": "2024-01-22T20:28:22.751Z"
   },
   {
    "duration": 17,
    "start_time": "2024-01-22T20:28:22.797Z"
   },
   {
    "duration": 18,
    "start_time": "2024-01-22T20:28:22.816Z"
   },
   {
    "duration": 18,
    "start_time": "2024-01-22T20:28:22.836Z"
   },
   {
    "duration": 28,
    "start_time": "2024-01-22T20:28:22.856Z"
   },
   {
    "duration": 20,
    "start_time": "2024-01-22T20:28:22.886Z"
   },
   {
    "duration": 11,
    "start_time": "2024-01-22T20:28:22.908Z"
   },
   {
    "duration": 36,
    "start_time": "2024-01-22T20:28:22.921Z"
   },
   {
    "duration": 649,
    "start_time": "2024-01-23T07:55:31.882Z"
   },
   {
    "duration": 20,
    "start_time": "2024-01-23T07:55:41.990Z"
   },
   {
    "duration": 19,
    "start_time": "2024-01-23T07:56:23.550Z"
   },
   {
    "duration": 3910,
    "start_time": "2024-01-23T07:57:00.764Z"
   },
   {
    "duration": 164,
    "start_time": "2024-01-23T08:03:37.642Z"
   },
   {
    "duration": 1285,
    "start_time": "2024-01-23T08:20:31.712Z"
   },
   {
    "duration": 197,
    "start_time": "2024-01-23T08:20:32.999Z"
   },
   {
    "duration": 30,
    "start_time": "2024-01-23T08:20:33.198Z"
   },
   {
    "duration": 418,
    "start_time": "2024-01-23T08:20:33.230Z"
   },
   {
    "duration": 566,
    "start_time": "2024-01-23T08:20:33.651Z"
   },
   {
    "duration": 7,
    "start_time": "2024-01-23T08:20:34.219Z"
   },
   {
    "duration": 57,
    "start_time": "2024-01-23T08:20:34.229Z"
   },
   {
    "duration": 36,
    "start_time": "2024-01-23T08:20:34.288Z"
   },
   {
    "duration": 51,
    "start_time": "2024-01-23T08:20:34.326Z"
   },
   {
    "duration": 43,
    "start_time": "2024-01-23T08:20:34.379Z"
   },
   {
    "duration": 65,
    "start_time": "2024-01-23T08:20:34.424Z"
   },
   {
    "duration": 113,
    "start_time": "2024-01-23T08:20:34.490Z"
   },
   {
    "duration": 82,
    "start_time": "2024-01-23T08:20:34.605Z"
   },
   {
    "duration": 281,
    "start_time": "2024-01-23T08:20:34.690Z"
   },
   {
    "duration": 15,
    "start_time": "2024-01-23T08:20:34.973Z"
   },
   {
    "duration": 154,
    "start_time": "2024-01-23T08:20:34.990Z"
   },
   {
    "duration": 33,
    "start_time": "2024-01-23T08:20:35.145Z"
   },
   {
    "duration": 563,
    "start_time": "2024-01-23T08:20:35.180Z"
   },
   {
    "duration": 31,
    "start_time": "2024-01-23T08:20:35.744Z"
   },
   {
    "duration": 237,
    "start_time": "2024-01-23T08:20:35.777Z"
   },
   {
    "duration": 27,
    "start_time": "2024-01-23T08:20:36.016Z"
   },
   {
    "duration": 30,
    "start_time": "2024-01-23T08:20:36.045Z"
   },
   {
    "duration": 23,
    "start_time": "2024-01-23T08:20:36.077Z"
   },
   {
    "duration": 325,
    "start_time": "2024-01-23T08:20:36.102Z"
   },
   {
    "duration": 36,
    "start_time": "2024-01-23T08:20:36.429Z"
   },
   {
    "duration": 12,
    "start_time": "2024-01-23T08:20:36.467Z"
   },
   {
    "duration": 29,
    "start_time": "2024-01-23T08:20:36.480Z"
   },
   {
    "duration": 41,
    "start_time": "2024-01-23T08:20:36.511Z"
   },
   {
    "duration": 30,
    "start_time": "2024-01-23T08:20:36.554Z"
   },
   {
    "duration": 18,
    "start_time": "2024-01-23T08:20:36.585Z"
   },
   {
    "duration": 38,
    "start_time": "2024-01-23T08:20:36.605Z"
   },
   {
    "duration": 27,
    "start_time": "2024-01-23T08:20:36.644Z"
   },
   {
    "duration": 33,
    "start_time": "2024-01-23T08:20:36.673Z"
   },
   {
    "duration": 20,
    "start_time": "2024-01-23T08:20:36.708Z"
   },
   {
    "duration": 185,
    "start_time": "2024-01-23T08:21:51.702Z"
   },
   {
    "duration": 74858,
    "start_time": "2024-01-23T08:21:51.890Z"
   },
   {
    "duration": 182,
    "start_time": "2024-01-23T08:38:34.604Z"
   },
   {
    "duration": 139,
    "start_time": "2024-01-23T08:38:39.708Z"
   },
   {
    "duration": 164,
    "start_time": "2024-01-23T08:38:47.728Z"
   },
   {
    "duration": 192,
    "start_time": "2024-01-23T08:39:15.548Z"
   },
   {
    "duration": 186,
    "start_time": "2024-01-23T08:39:23.096Z"
   },
   {
    "duration": 149,
    "start_time": "2024-01-23T08:39:35.649Z"
   },
   {
    "duration": 4,
    "start_time": "2024-01-23T08:40:08.728Z"
   },
   {
    "duration": 1135,
    "start_time": "2024-01-23T08:40:45.187Z"
   },
   {
    "duration": 71,
    "start_time": "2024-01-23T08:40:46.324Z"
   },
   {
    "duration": 29,
    "start_time": "2024-01-23T08:40:46.397Z"
   },
   {
    "duration": 290,
    "start_time": "2024-01-23T08:40:46.428Z"
   },
   {
    "duration": 383,
    "start_time": "2024-01-23T08:40:46.720Z"
   },
   {
    "duration": 6,
    "start_time": "2024-01-23T08:40:47.105Z"
   },
   {
    "duration": 30,
    "start_time": "2024-01-23T08:40:47.112Z"
   },
   {
    "duration": 20,
    "start_time": "2024-01-23T08:40:47.144Z"
   },
   {
    "duration": 63,
    "start_time": "2024-01-23T08:40:47.166Z"
   },
   {
    "duration": 14,
    "start_time": "2024-01-23T08:40:47.231Z"
   },
   {
    "duration": 27,
    "start_time": "2024-01-23T08:40:47.247Z"
   },
   {
    "duration": 18,
    "start_time": "2024-01-23T08:40:47.276Z"
   },
   {
    "duration": 19,
    "start_time": "2024-01-23T08:40:47.296Z"
   },
   {
    "duration": 167,
    "start_time": "2024-01-23T08:40:47.318Z"
   },
   {
    "duration": 12,
    "start_time": "2024-01-23T08:40:47.487Z"
   },
   {
    "duration": 143,
    "start_time": "2024-01-23T08:40:47.501Z"
   },
   {
    "duration": 32,
    "start_time": "2024-01-23T08:40:47.646Z"
   },
   {
    "duration": 523,
    "start_time": "2024-01-23T08:40:47.679Z"
   },
   {
    "duration": 27,
    "start_time": "2024-01-23T08:40:48.203Z"
   },
   {
    "duration": 179,
    "start_time": "2024-01-23T08:40:48.231Z"
   },
   {
    "duration": 37,
    "start_time": "2024-01-23T08:40:48.412Z"
   },
   {
    "duration": 25,
    "start_time": "2024-01-23T08:40:48.452Z"
   },
   {
    "duration": 19,
    "start_time": "2024-01-23T08:40:48.479Z"
   },
   {
    "duration": 290,
    "start_time": "2024-01-23T08:40:48.500Z"
   },
   {
    "duration": 26,
    "start_time": "2024-01-23T08:40:48.791Z"
   },
   {
    "duration": 11,
    "start_time": "2024-01-23T08:40:48.819Z"
   },
   {
    "duration": 5,
    "start_time": "2024-01-23T08:40:48.831Z"
   },
   {
    "duration": 76,
    "start_time": "2024-01-23T08:40:48.837Z"
   },
   {
    "duration": 29,
    "start_time": "2024-01-23T08:40:48.915Z"
   },
   {
    "duration": 37,
    "start_time": "2024-01-23T08:40:48.946Z"
   },
   {
    "duration": 36,
    "start_time": "2024-01-23T08:40:48.985Z"
   },
   {
    "duration": 20,
    "start_time": "2024-01-23T08:40:49.022Z"
   },
   {
    "duration": 26,
    "start_time": "2024-01-23T08:40:49.044Z"
   },
   {
    "duration": 25,
    "start_time": "2024-01-23T08:40:49.071Z"
   },
   {
    "duration": 70806,
    "start_time": "2024-01-23T08:40:49.098Z"
   },
   {
    "duration": 83,
    "start_time": "2024-01-23T08:41:59.906Z"
   },
   {
    "duration": 11640,
    "start_time": "2024-01-23T09:32:46.494Z"
   },
   {
    "duration": 114,
    "start_time": "2024-01-23T09:32:58.534Z"
   },
   {
    "duration": 71,
    "start_time": "2024-01-23T09:37:12.454Z"
   },
   {
    "duration": 548,
    "start_time": "2024-01-23T09:37:46.175Z"
   },
   {
    "duration": 20,
    "start_time": "2024-01-23T09:37:56.942Z"
   },
   {
    "duration": 135,
    "start_time": "2024-01-23T09:38:41.914Z"
   },
   {
    "duration": 165,
    "start_time": "2024-01-23T09:38:48.414Z"
   },
   {
    "duration": 148,
    "start_time": "2024-01-23T09:38:56.902Z"
   },
   {
    "duration": 150,
    "start_time": "2024-01-23T09:39:07.893Z"
   },
   {
    "duration": 155,
    "start_time": "2024-01-23T09:39:13.074Z"
   },
   {
    "duration": 4,
    "start_time": "2024-01-23T09:42:50.171Z"
   },
   {
    "duration": 4,
    "start_time": "2024-01-23T09:45:11.016Z"
   },
   {
    "duration": 10,
    "start_time": "2024-01-23T09:47:43.259Z"
   },
   {
    "duration": 4,
    "start_time": "2024-01-23T09:48:37.455Z"
   },
   {
    "duration": 6,
    "start_time": "2024-01-23T09:48:45.046Z"
   },
   {
    "duration": 145,
    "start_time": "2024-01-23T09:50:19.355Z"
   },
   {
    "duration": 4,
    "start_time": "2024-01-23T09:50:46.397Z"
   },
   {
    "duration": 10,
    "start_time": "2024-01-23T09:56:53.580Z"
   },
   {
    "duration": 10,
    "start_time": "2024-01-23T09:57:33.452Z"
   },
   {
    "duration": 9,
    "start_time": "2024-01-23T09:58:02.681Z"
   },
   {
    "duration": 13,
    "start_time": "2024-01-23T10:00:06.640Z"
   },
   {
    "duration": 2627,
    "start_time": "2024-01-23T10:00:47.700Z"
   },
   {
    "duration": 14,
    "start_time": "2024-01-23T10:01:52.922Z"
   },
   {
    "duration": 12,
    "start_time": "2024-01-23T10:02:01.343Z"
   },
   {
    "duration": 13,
    "start_time": "2024-01-23T10:02:54.250Z"
   },
   {
    "duration": 700,
    "start_time": "2024-01-23T14:03:56.092Z"
   },
   {
    "duration": 580,
    "start_time": "2024-01-23T14:04:07.495Z"
   },
   {
    "duration": 243,
    "start_time": "2024-01-23T14:04:08.077Z"
   },
   {
    "duration": 32,
    "start_time": "2024-01-23T14:04:08.322Z"
   },
   {
    "duration": 339,
    "start_time": "2024-01-23T14:04:08.355Z"
   },
   {
    "duration": 353,
    "start_time": "2024-01-23T14:04:08.696Z"
   },
   {
    "duration": 6,
    "start_time": "2024-01-23T14:04:09.050Z"
   },
   {
    "duration": 28,
    "start_time": "2024-01-23T14:04:09.058Z"
   },
   {
    "duration": 14,
    "start_time": "2024-01-23T14:04:09.087Z"
   },
   {
    "duration": 25,
    "start_time": "2024-01-23T14:04:09.103Z"
   },
   {
    "duration": 18,
    "start_time": "2024-01-23T14:04:09.130Z"
   },
   {
    "duration": 32,
    "start_time": "2024-01-23T14:04:09.149Z"
   },
   {
    "duration": 16,
    "start_time": "2024-01-23T14:04:09.183Z"
   },
   {
    "duration": 49,
    "start_time": "2024-01-23T14:04:09.201Z"
   },
   {
    "duration": 161,
    "start_time": "2024-01-23T14:04:09.253Z"
   },
   {
    "duration": 14,
    "start_time": "2024-01-23T14:04:09.417Z"
   },
   {
    "duration": 138,
    "start_time": "2024-01-23T14:04:09.432Z"
   },
   {
    "duration": 22,
    "start_time": "2024-01-23T14:04:09.572Z"
   },
   {
    "duration": 567,
    "start_time": "2024-01-23T14:04:09.596Z"
   },
   {
    "duration": 27,
    "start_time": "2024-01-23T14:04:10.165Z"
   },
   {
    "duration": 173,
    "start_time": "2024-01-23T14:04:10.194Z"
   },
   {
    "duration": 29,
    "start_time": "2024-01-23T14:04:10.369Z"
   },
   {
    "duration": 27,
    "start_time": "2024-01-23T14:04:10.400Z"
   },
   {
    "duration": 10,
    "start_time": "2024-01-23T14:04:10.428Z"
   },
   {
    "duration": 222,
    "start_time": "2024-01-23T14:04:10.440Z"
   },
   {
    "duration": 26,
    "start_time": "2024-01-23T14:04:10.664Z"
   },
   {
    "duration": 27,
    "start_time": "2024-01-23T14:04:10.692Z"
   },
   {
    "duration": 3,
    "start_time": "2024-01-23T14:04:10.721Z"
   },
   {
    "duration": 43,
    "start_time": "2024-01-23T14:04:10.726Z"
   },
   {
    "duration": 104,
    "start_time": "2024-01-23T14:04:10.771Z"
   },
   {
    "duration": 18,
    "start_time": "2024-01-23T14:04:10.877Z"
   },
   {
    "duration": 36,
    "start_time": "2024-01-23T14:04:10.896Z"
   },
   {
    "duration": 24,
    "start_time": "2024-01-23T14:04:10.933Z"
   },
   {
    "duration": 35,
    "start_time": "2024-01-23T14:04:10.959Z"
   },
   {
    "duration": 13,
    "start_time": "2024-01-23T14:04:10.996Z"
   },
   {
    "duration": 11145,
    "start_time": "2024-01-23T14:04:11.011Z"
   },
   {
    "duration": 180,
    "start_time": "2024-01-23T14:04:22.157Z"
   },
   {
    "duration": 4,
    "start_time": "2024-01-23T14:04:22.338Z"
   },
   {
    "duration": 5,
    "start_time": "2024-01-23T14:04:22.366Z"
   },
   {
    "duration": 117,
    "start_time": "2024-01-23T14:04:29.217Z"
   },
   {
    "duration": 102,
    "start_time": "2024-01-23T14:04:50.558Z"
   },
   {
    "duration": 7,
    "start_time": "2024-01-23T14:05:28.041Z"
   },
   {
    "duration": 107,
    "start_time": "2024-01-23T14:05:47.418Z"
   },
   {
    "duration": 6,
    "start_time": "2024-01-23T14:05:57.660Z"
   },
   {
    "duration": 100,
    "start_time": "2024-01-23T14:14:25.052Z"
   },
   {
    "duration": 121,
    "start_time": "2024-01-23T14:25:02.187Z"
   },
   {
    "duration": 124,
    "start_time": "2024-01-23T14:25:16.266Z"
   },
   {
    "duration": 76,
    "start_time": "2024-01-23T14:26:36.210Z"
   },
   {
    "duration": 139,
    "start_time": "2024-01-23T14:26:44.220Z"
   },
   {
    "duration": 242,
    "start_time": "2024-01-23T14:27:45.265Z"
   },
   {
    "duration": 257,
    "start_time": "2024-01-23T14:29:59.555Z"
   },
   {
    "duration": 307,
    "start_time": "2024-01-23T14:30:25.703Z"
   },
   {
    "duration": 296,
    "start_time": "2024-01-23T14:30:48.157Z"
   },
   {
    "duration": 81,
    "start_time": "2024-01-23T14:30:55.764Z"
   },
   {
    "duration": 384,
    "start_time": "2024-01-23T14:32:33.630Z"
   },
   {
    "duration": 317,
    "start_time": "2024-01-23T14:32:48.624Z"
   },
   {
    "duration": 13,
    "start_time": "2024-01-23T14:33:09.550Z"
   },
   {
    "duration": 279,
    "start_time": "2024-01-23T14:33:16.704Z"
   },
   {
    "duration": 230,
    "start_time": "2024-01-23T14:33:24.470Z"
   },
   {
    "duration": 46,
    "start_time": "2024-02-04T20:17:48.938Z"
   },
   {
    "duration": 1105,
    "start_time": "2024-02-04T20:17:53.843Z"
   },
   {
    "duration": 195,
    "start_time": "2024-02-04T20:17:54.951Z"
   },
   {
    "duration": 37,
    "start_time": "2024-02-04T20:17:55.148Z"
   },
   {
    "duration": 267,
    "start_time": "2024-02-04T20:17:55.187Z"
   },
   {
    "duration": 345,
    "start_time": "2024-02-04T20:17:55.456Z"
   },
   {
    "duration": 5,
    "start_time": "2024-02-04T20:17:55.803Z"
   },
   {
    "duration": 12,
    "start_time": "2024-02-04T20:17:55.809Z"
   },
   {
    "duration": 6,
    "start_time": "2024-02-04T20:17:55.822Z"
   },
   {
    "duration": 28,
    "start_time": "2024-02-04T20:17:55.829Z"
   },
   {
    "duration": 21,
    "start_time": "2024-02-04T20:17:55.859Z"
   },
   {
    "duration": 13,
    "start_time": "2024-02-04T20:17:55.881Z"
   },
   {
    "duration": 11,
    "start_time": "2024-02-04T20:17:55.896Z"
   },
   {
    "duration": 53,
    "start_time": "2024-02-04T20:17:55.908Z"
   },
   {
    "duration": 166,
    "start_time": "2024-02-04T20:17:55.964Z"
   },
   {
    "duration": 21,
    "start_time": "2024-02-04T20:17:56.132Z"
   },
   {
    "duration": 125,
    "start_time": "2024-02-04T20:17:56.154Z"
   },
   {
    "duration": 22,
    "start_time": "2024-02-04T20:17:56.280Z"
   },
   {
    "duration": 510,
    "start_time": "2024-02-04T20:17:56.303Z"
   },
   {
    "duration": 25,
    "start_time": "2024-02-04T20:17:56.815Z"
   },
   {
    "duration": 140,
    "start_time": "2024-02-04T20:17:56.852Z"
   },
   {
    "duration": 25,
    "start_time": "2024-02-04T20:17:56.994Z"
   },
   {
    "duration": 12,
    "start_time": "2024-02-04T20:17:57.020Z"
   },
   {
    "duration": 26,
    "start_time": "2024-02-04T20:17:57.033Z"
   },
   {
    "duration": 311,
    "start_time": "2024-02-04T20:17:57.060Z"
   },
   {
    "duration": 27,
    "start_time": "2024-02-04T20:17:57.375Z"
   },
   {
    "duration": 12,
    "start_time": "2024-02-04T20:17:57.403Z"
   },
   {
    "duration": 3,
    "start_time": "2024-02-04T20:17:57.416Z"
   },
   {
    "duration": 43,
    "start_time": "2024-02-04T20:17:57.423Z"
   },
   {
    "duration": 16,
    "start_time": "2024-02-04T20:17:57.467Z"
   },
   {
    "duration": 16,
    "start_time": "2024-02-04T20:17:57.484Z"
   },
   {
    "duration": 16,
    "start_time": "2024-02-04T20:17:57.502Z"
   },
   {
    "duration": 5,
    "start_time": "2024-02-04T20:17:57.519Z"
   },
   {
    "duration": 5,
    "start_time": "2024-02-04T20:17:57.552Z"
   },
   {
    "duration": 6,
    "start_time": "2024-02-04T20:17:57.558Z"
   },
   {
    "duration": 11383,
    "start_time": "2024-02-04T20:17:57.565Z"
   },
   {
    "duration": 179,
    "start_time": "2024-02-04T20:18:08.951Z"
   },
   {
    "duration": 3,
    "start_time": "2024-02-04T20:18:09.132Z"
   },
   {
    "duration": 25,
    "start_time": "2024-02-04T20:18:09.137Z"
   },
   {
    "duration": 296,
    "start_time": "2024-02-04T20:18:09.164Z"
   },
   {
    "duration": 20,
    "start_time": "2024-02-04T20:18:45.288Z"
   },
   {
    "duration": 23,
    "start_time": "2024-02-04T20:18:52.532Z"
   },
   {
    "duration": 24,
    "start_time": "2024-02-04T20:19:04.987Z"
   },
   {
    "duration": 53,
    "start_time": "2024-02-06T10:01:51.157Z"
   },
   {
    "duration": 1085,
    "start_time": "2024-02-06T10:02:00.235Z"
   },
   {
    "duration": 187,
    "start_time": "2024-02-06T10:02:01.322Z"
   },
   {
    "duration": 34,
    "start_time": "2024-02-06T10:02:01.511Z"
   },
   {
    "duration": 305,
    "start_time": "2024-02-06T10:02:01.548Z"
   },
   {
    "duration": 346,
    "start_time": "2024-02-06T10:02:01.855Z"
   },
   {
    "duration": 6,
    "start_time": "2024-02-06T10:02:02.202Z"
   },
   {
    "duration": 54,
    "start_time": "2024-02-06T10:02:02.209Z"
   },
   {
    "duration": 42,
    "start_time": "2024-02-06T10:02:02.264Z"
   },
   {
    "duration": 69,
    "start_time": "2024-02-06T10:02:02.308Z"
   },
   {
    "duration": 32,
    "start_time": "2024-02-06T10:02:02.379Z"
   },
   {
    "duration": 30,
    "start_time": "2024-02-06T10:02:02.412Z"
   },
   {
    "duration": 24,
    "start_time": "2024-02-06T10:02:02.443Z"
   },
   {
    "duration": 34,
    "start_time": "2024-02-06T10:02:02.468Z"
   },
   {
    "duration": 170,
    "start_time": "2024-02-06T10:02:02.504Z"
   },
   {
    "duration": 12,
    "start_time": "2024-02-06T10:02:02.676Z"
   },
   {
    "duration": 137,
    "start_time": "2024-02-06T10:02:02.689Z"
   },
   {
    "duration": 22,
    "start_time": "2024-02-06T10:02:02.827Z"
   },
   {
    "duration": 508,
    "start_time": "2024-02-06T10:02:02.850Z"
   },
   {
    "duration": 26,
    "start_time": "2024-02-06T10:02:03.360Z"
   },
   {
    "duration": 166,
    "start_time": "2024-02-06T10:02:03.387Z"
   },
   {
    "duration": 28,
    "start_time": "2024-02-06T10:02:03.555Z"
   },
   {
    "duration": 13,
    "start_time": "2024-02-06T10:02:03.585Z"
   },
   {
    "duration": 36,
    "start_time": "2024-02-06T10:02:03.600Z"
   },
   {
    "duration": 297,
    "start_time": "2024-02-06T10:02:03.637Z"
   },
   {
    "duration": 24,
    "start_time": "2024-02-06T10:02:03.935Z"
   },
   {
    "duration": 11,
    "start_time": "2024-02-06T10:02:03.960Z"
   },
   {
    "duration": 7,
    "start_time": "2024-02-06T10:02:03.973Z"
   },
   {
    "duration": 18,
    "start_time": "2024-02-06T10:02:03.983Z"
   },
   {
    "duration": 37,
    "start_time": "2024-02-06T10:02:04.002Z"
   },
   {
    "duration": 17,
    "start_time": "2024-02-06T10:02:04.040Z"
   },
   {
    "duration": 23,
    "start_time": "2024-02-06T10:02:04.058Z"
   },
   {
    "duration": 5,
    "start_time": "2024-02-06T10:02:04.083Z"
   },
   {
    "duration": 13,
    "start_time": "2024-02-06T10:02:04.089Z"
   },
   {
    "duration": 12,
    "start_time": "2024-02-06T10:02:04.103Z"
   },
   {
    "duration": 10533,
    "start_time": "2024-02-06T10:02:04.116Z"
   },
   {
    "duration": 183,
    "start_time": "2024-02-06T10:02:14.650Z"
   },
   {
    "duration": 4,
    "start_time": "2024-02-06T10:02:14.835Z"
   },
   {
    "duration": 11,
    "start_time": "2024-02-06T10:02:14.840Z"
   },
   {
    "duration": 305,
    "start_time": "2024-02-06T10:02:14.853Z"
   },
   {
    "duration": 50,
    "start_time": "2024-07-25T11:52:33.152Z"
   },
   {
    "duration": 6,
    "start_time": "2024-07-25T11:52:40.855Z"
   },
   {
    "duration": 901,
    "start_time": "2024-07-25T11:52:43.816Z"
   },
   {
    "duration": 367,
    "start_time": "2024-07-25T11:52:44.719Z"
   },
   {
    "duration": 31,
    "start_time": "2024-07-25T11:52:45.088Z"
   },
   {
    "duration": 281,
    "start_time": "2024-07-25T11:52:45.121Z"
   },
   {
    "duration": 364,
    "start_time": "2024-07-25T11:52:45.403Z"
   },
   {
    "duration": 8,
    "start_time": "2024-07-25T11:52:45.769Z"
   },
   {
    "duration": 45,
    "start_time": "2024-07-25T11:52:45.785Z"
   },
   {
    "duration": 63,
    "start_time": "2024-07-25T11:52:45.832Z"
   },
   {
    "duration": 14,
    "start_time": "2024-07-25T11:52:45.897Z"
   },
   {
    "duration": 33,
    "start_time": "2024-07-25T11:52:45.914Z"
   },
   {
    "duration": 23,
    "start_time": "2024-07-25T11:52:45.949Z"
   },
   {
    "duration": 36,
    "start_time": "2024-07-25T11:52:45.974Z"
   },
   {
    "duration": 44,
    "start_time": "2024-07-25T11:52:46.012Z"
   },
   {
    "duration": 159,
    "start_time": "2024-07-25T11:52:46.058Z"
   },
   {
    "duration": 12,
    "start_time": "2024-07-25T11:52:46.219Z"
   },
   {
    "duration": 140,
    "start_time": "2024-07-25T11:52:46.232Z"
   },
   {
    "duration": 31,
    "start_time": "2024-07-25T11:52:46.374Z"
   },
   {
    "duration": 498,
    "start_time": "2024-07-25T11:52:46.407Z"
   },
   {
    "duration": 27,
    "start_time": "2024-07-25T11:52:46.907Z"
   },
   {
    "duration": 167,
    "start_time": "2024-07-25T11:52:46.936Z"
   },
   {
    "duration": 27,
    "start_time": "2024-07-25T11:52:47.105Z"
   },
   {
    "duration": 13,
    "start_time": "2024-07-25T11:52:47.134Z"
   },
   {
    "duration": 16,
    "start_time": "2024-07-25T11:52:47.149Z"
   },
   {
    "duration": 302,
    "start_time": "2024-07-25T11:52:47.166Z"
   },
   {
    "duration": 30,
    "start_time": "2024-07-25T11:52:47.470Z"
   },
   {
    "duration": 12,
    "start_time": "2024-07-25T11:52:47.502Z"
   },
   {
    "duration": 3,
    "start_time": "2024-07-25T11:52:47.516Z"
   },
   {
    "duration": 20,
    "start_time": "2024-07-25T11:52:47.522Z"
   },
   {
    "duration": 46,
    "start_time": "2024-07-25T11:52:47.544Z"
   },
   {
    "duration": 18,
    "start_time": "2024-07-25T11:52:47.592Z"
   },
   {
    "duration": 21,
    "start_time": "2024-07-25T11:52:47.611Z"
   },
   {
    "duration": 5,
    "start_time": "2024-07-25T11:52:47.633Z"
   },
   {
    "duration": 5,
    "start_time": "2024-07-25T11:52:47.640Z"
   },
   {
    "duration": 6,
    "start_time": "2024-07-25T11:52:47.647Z"
   },
   {
    "duration": 7215,
    "start_time": "2024-07-25T11:52:47.684Z"
   },
   {
    "duration": 117,
    "start_time": "2024-07-25T11:52:54.901Z"
   },
   {
    "duration": 18,
    "start_time": "2024-07-25T11:52:55.019Z"
   },
   {
    "duration": 6,
    "start_time": "2024-07-25T11:52:55.038Z"
   },
   {
    "duration": 257,
    "start_time": "2024-07-25T11:52:55.046Z"
   }
  ],
  "kernelspec": {
   "display_name": "Python 3 (ipykernel)",
   "language": "python",
   "name": "python3"
  },
  "language_info": {
   "codemirror_mode": {
    "name": "ipython",
    "version": 3
   },
   "file_extension": ".py",
   "mimetype": "text/x-python",
   "name": "python",
   "nbconvert_exporter": "python",
   "pygments_lexer": "ipython3",
   "version": "3.11.5"
  },
  "toc": {
   "base_numbering": 1,
   "nav_menu": {},
   "number_sections": true,
   "sideBar": true,
   "skip_h1_title": true,
   "title_cell": "Table of Contents",
   "title_sidebar": "Contents",
   "toc_cell": false,
   "toc_position": {},
   "toc_section_display": true,
   "toc_window_display": false
  }
 },
 "nbformat": 4,
 "nbformat_minor": 5
}
